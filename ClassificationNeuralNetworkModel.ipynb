{
  "nbformat": 4,
  "nbformat_minor": 0,
  "metadata": {
    "colab": {
      "name": "ClassificationNeuralNetworkModel.ipynb",
      "provenance": [],
      "collapsed_sections": [],
      "authorship_tag": "ABX9TyP+suFEb8BbH9phaylgDn4N",
      "include_colab_link": true
    },
    "kernelspec": {
      "name": "python3",
      "display_name": "Python 3"
    }
  },
  "cells": [
    {
      "cell_type": "markdown",
      "metadata": {
        "id": "view-in-github",
        "colab_type": "text"
      },
      "source": [
        "<a href=\"https://colab.research.google.com/github/oakrom/PythonNeuralNetworkRepo/blob/main/ClassificationNeuralNetworkModel.ipynb\" target=\"_parent\"><img src=\"https://colab.research.google.com/assets/colab-badge.svg\" alt=\"Open In Colab\"/></a>"
      ]
    },
    {
      "cell_type": "code",
      "metadata": {
        "id": "R62Qm99BauCe",
        "colab": {
          "base_uri": "https://localhost:8080/",
          "height": 1000
        },
        "outputId": "a608faa9-ae82-4276-8494-ddd104750d70"
      },
      "source": [
        "import numpy as np \n",
        "import matplotlib.pyplot as plt \n",
        "# A,B,C,D,E,F,G,H,I,J,K,L,M,N,O,P,Q,R,S,T,U,V,W,X,Y,Z harfini plot() funksiyasi asosida vizuallashtirish. \n",
        "#a = np.array([[0,0,1,1,0,0], [0,1,0,0,1,0], [1,1,1,1,1,1], [1,0,0,0,0,1], [1,0,0,0,0,1]]) #Bu eski kod\n",
        "#b = np.array([[0,1,1,1,1,0], [0,1,0,0,1,0], [0,1,1,1,1,0], [0,1,0,0,1,0], [0,1,1,1,1,0]]) #Bu eski kod\n",
        "#c = np.array([[0,1,1,1,1,0], [0,1,0,0,0,0], [0,1,0,0,0,0], [0,1,0,0,0,0], [0,1,1,1,1,0]]) #Bu eski kod\n",
        "\n",
        "# datasetni shakllantirish, harflarni massivlarga joylashtirish\n",
        "a = np.array([[0,0,0,0,1,0,0,0,0],[0,0,0,1,0,1,0,0,0],[0,0,0,1,0,1,0,0,0],[0,0,1,0,0,0,1,0,0],[0,0,1,0,0,0,1,0,0],[0,1,1,1,1,1,1,1,0],[0,1,0,0,0,0,0,1,0],[1,0,0,0,0,0,0,0,1],[1,0,0,0,0,0,0,0,1]])\n",
        "b = np.array([[0,0,1,1,1,1,0,0,0],[0,0,1,0,0,0,1,0,0],[0,0,1,0,0,0,1,0,0],[0,0,1,0,0,0,1,0,0],[0,0,1,1,1,1,0,0,0],[0,0,1,0,0,0,1,0,0],[0,0,1,0,0,0,1,0,0],[0,0,1,0,0,0,1,0,0],[0,0,1,1,1,1,0,0,0]])\n",
        "c = np.array([[0,0,0,1,1,1,0,0,0],[0,0,1,0,0,0,1,0,0],[0,1,0,0,0,0,0,1,0],[0,1,0,0,0,0,0,0,0],[0,1,0,0,0,0,0,0,0],[0,1,0,0,0,0,0,0,0],[0,1,0,0,0,0,0,1,0],[0,0,1,0,0,0,1,0,0],[0,0,0,1,1,1,0,0,0]])\n",
        "d = np.array([[0,0,1,1,1,1,0,0,0],[0,0,1,0,0,0,1,0,0],[0,0,1,0,0,0,0,1,0],[0,0,1,0,0,0,0,1,0],[0,0,1,0,0,0,0,1,0],[0,0,1,0,0,0,0,1,0],[0,0,1,0,0,0,0,1,0],[0,0,1,0,0,0,1,0,0],[0,0,1,1,1,1,0,0,0]])\n",
        "e = np.array([[0,0,1,1,1,1,1,0,0],[0,0,1,0,0,0,1,0,0],[0,0,1,0,0,0,0,0,0],[0,0,1,0,0,0,0,0,0],[0,0,1,1,1,0,0,0,0],[0,0,1,0,0,0,0,0,0],[0,0,1,0,0,0,0,0,0],[0,0,1,0,0,0,1,0,0],[0,0,1,1,1,1,1,0,0]])\n",
        "f = np.array([[0,0,1,1,1,1,1,0,0],[0,0,1,0,0,0,1,0,0],[0,0,1,0,0,0,0,0,0],[0,0,1,0,0,0,0,0,0],[0,0,1,1,1,0,0,0,0],[0,0,1,0,0,0,0,0,0],[0,0,1,0,0,0,0,0,0],[0,0,1,0,0,0,0,0,0],[0,0,1,0,0,0,0,0,0]])\n",
        "g = np.array([[0,0,0,1,1,1,0,0,0],[0,0,1,0,0,0,1,0,0],[0,1,0,0,0,0,0,1,0],[0,1,0,0,0,0,0,0,0],[0,1,0,0,0,1,1,0,0],[0,1,0,0,0,0,0,1,0],[0,1,0,0,0,0,0,1,0],[0,0,1,0,0,0,1,0,0],[0,0,0,1,1,1,0,0,0]])\n",
        "h = np.array([[0,0,1,0,0,0,1,0,0],[0,0,1,0,0,0,1,0,0],[0,0,1,0,0,0,1,0,0],[0,0,1,0,0,0,1,0,0],[0,0,1,1,1,1,1,0,0],[0,0,1,0,0,0,1,0,0],[0,0,1,0,0,0,1,0,0],[0,0,1,0,0,0,1,0,0],[0,0,1,0,0,0,1,0,0]])\n",
        "i = np.array([[0,0,0,1,1,1,0,0,0],[0,0,0,0,1,0,0,0,0],[0,0,0,0,1,0,0,0,0],[0,0,0,0,1,0,0,0,0],[0,0,0,0,1,0,0,0,0],[0,0,0,0,1,0,0,0,0],[0,0,0,0,1,0,0,0,0],[0,0,0,0,1,0,0,0,0],[0,0,0,1,1,1,0,0,0]])\n",
        "j = np.array([[0,0,0,0,0,1,0,0,0],[0,0,0,0,0,1,0,0,0],[0,0,0,0,0,1,0,0,0],[0,0,0,0,0,1,0,0,0],[0,0,0,0,0,1,0,0,0],[0,0,0,0,0,1,0,0,0],[0,1,0,0,0,1,0,0,0],[0,1,0,0,1,0,0,0,0],[0,0,1,1,0,0,0,0,0]])\n",
        "k = np.array([[0,0,1,0,0,0,1,0,0],[0,0,1,0,0,1,0,0,0],[0,0,1,0,1,0,0,0,0],[0,0,1,1,0,0,0,0,0],[0,0,1,0,1,0,0,0,0],[0,0,1,0,0,1,0,0,0],[0,0,1,0,0,0,1,0,0],[0,0,1,0,0,0,0,1,0],[0,0,1,0,0,0,0,0,1]])\n",
        "l = np.array([[0,0,1,0,0,0,0,0,0],[0,0,1,0,0,0,0,0,0],[0,0,1,0,0,0,0,0,0],[0,0,1,0,0,0,0,0,0],[0,0,1,0,0,0,0,0,0],[0,0,1,0,0,0,0,0,0],[0,0,1,0,0,0,0,0,0],[0,0,1,0,0,0,1,0,0],[0,0,1,1,1,1,1,0,0]])\n",
        "m = np.array([[0,1,0,0,0,0,0,1,0],[0,1,1,0,0,0,1,1,0],[0,1,0,1,0,1,0,1,0],[0,1,0,0,1,0,0,1,0],[0,1,0,0,1,0,0,1,0],[0,1,0,0,0,0,0,1,0],[0,1,0,0,0,0,0,1,0],[0,1,0,0,0,0,0,1,0],[0,1,0,0,0,0,0,1,0]])\n",
        "n = np.array([[0,1,0,0,0,0,0,1,0],[0,1,1,0,0,0,0,1,0],[0,1,1,0,0,0,0,1,0],[0,1,0,1,0,0,0,1,0],[0,1,0,0,1,0,0,1,0],[0,1,0,0,0,1,0,1,0],[0,1,0,0,0,0,1,1,0],[0,1,0,0,0,0,1,1,0],[0,1,0,0,0,0,0,1,0]])\n",
        "o = np.array([[0,0,0,1,1,1,0,0,0],[0,0,1,0,0,0,1,0,0],[0,1,0,0,0,0,0,1,0],[0,1,0,0,0,0,0,1,0],[0,1,0,0,0,0,0,1,0],[0,1,0,0,0,0,0,1,0],[0,1,0,0,0,0,0,1,0],[0,0,1,0,0,0,1,0,0],[0,0,0,1,1,1,0,0,0]])\n",
        "p = np.array([[0,1,1,1,1,1,0,0,0],[0,1,0,0,0,0,1,0,0],[0,1,0,0,0,0,0,1,0],[0,1,0,0,0,0,0,1,0],[0,1,0,0,0,0,1,0,0],[0,1,1,1,1,1,0,0,0],[0,1,0,0,0,0,0,0,0],[0,1,0,0,0,0,0,0,0],[0,1,0,0,0,0,0,0,0]])\n",
        "q = np.array([[0,0,0,1,1,1,0,0,0],[0,0,1,0,0,0,1,0,0],[0,1,0,0,0,0,0,1,0],[0,1,0,0,0,0,0,1,0],[0,1,0,0,0,0,0,1,0],[0,1,0,0,0,0,0,1,0],[0,1,0,0,0,1,0,1,0],[0,0,1,0,0,0,1,0,0],[0,0,0,1,1,1,0,1,0]])\n",
        "r = np.array([[0,1,1,1,1,1,0,0,0],[0,1,0,0,0,0,1,0,0],[0,1,0,0,0,0,0,1,0],[0,1,0,0,0,0,0,1,0],[0,1,0,0,0,0,1,0,0],[0,1,1,1,1,1,0,0,0],[0,1,0,0,0,1,0,0,0],[0,1,0,0,0,0,1,0,0],[0,1,0,0,0,0,0,1,0]])\n",
        "s = np.array([[0,0,0,1,1,1,0,0,0],[0,0,1,0,0,0,1,0,0],[0,1,0,0,0,0,0,1,0],[0,0,1,0,0,0,0,0,0],[0,0,0,1,1,0,0,0,0],[0,0,0,0,0,1,1,0,0],[0,1,0,0,0,0,0,1,0],[0,0,1,0,0,0,1,0,0],[0,0,0,1,1,1,0,0,0]])\n",
        "t = np.array([[0,1,1,1,1,1,1,1,0],[0,0,0,0,1,0,0,0,0],[0,0,0,0,1,0,0,0,0],[0,0,0,0,1,0,0,0,0],[0,0,0,0,1,0,0,0,0],[0,0,0,0,1,0,0,0,0],[0,0,0,0,1,0,0,0,0],[0,0,0,0,1,0,0,0,0],[0,0,0,0,1,0,0,0,0]])\n",
        "u = np.array([[0,1,0,0,0,0,0,1,0],[0,1,0,0,0,0,0,1,0],[0,1,0,0,0,0,0,1,0],[0,1,0,0,0,0,0,1,0],[0,1,0,0,0,0,0,1,0],[0,1,0,0,0,0,0,1,0],[0,1,0,0,0,0,0,1,0],[0,0,1,0,0,0,1,0,0],[0,0,0,1,1,1,0,0,0]])\n",
        "v = np.array([[0,1,0,0,0,0,0,1,0],[0,1,0,0,0,0,0,1,0],[0,1,0,0,0,0,0,1,0],[0,0,1,0,0,0,1,0,0],[0,0,1,0,0,0,1,0,0],[0,0,0,1,0,1,0,0,0],[0,0,0,1,0,1,0,0,0],[0,0,0,0,1,0,0,0,0],[0,0,0,0,1,0,0,0,0]])\n",
        "w = np.array([[0,1,0,0,0,0,0,1,0],[0,1,0,0,0,0,0,1,0],[0,1,0,0,0,0,0,1,0],[0,1,0,0,1,0,0,1,0],[0,1,0,0,1,0,0,1,0],[0,1,0,1,0,1,0,1,0],[0,1,0,1,0,1,0,1,0],[0,1,1,0,0,0,1,1,0],[0,1,0,0,0,0,0,1,0]])\n",
        "x = np.array([[0,1,0,0,0,0,0,1,0],[0,1,0,0,0,0,0,1,0],[0,1,0,0,0,0,0,1,0],[0,0,1,0,0,0,1,0,0],[0,0,0,1,1,1,0,0,0],[0,0,1,0,0,0,1,0,0],[0,1,0,0,0,0,0,1,0],[0,1,0,0,0,0,0,1,0],[0,1,0,0,0,0,0,1,0]])\n",
        "y = np.array([[0,1,0,0,0,0,0,1,0],[0,1,0,0,0,0,0,1,0],[0,0,1,0,0,0,1,0,0],[0,0,0,1,0,1,0,0,0],[0,0,0,0,1,0,0,0,0],[0,0,0,0,1,0,0,0,0],[0,0,0,0,1,0,0,0,0],[0,0,0,0,1,0,0,0,0],[0,0,0,0,1,0,0,0,0]])\n",
        "z = np.array([[0,1,1,1,1,1,1,1,0],[0,0,0,0,0,0,0,1,0],[0,0,0,0,0,0,1,0,0],[0,0,0,0,0,1,0,0,0],[0,0,0,0,1,0,0,0,0],[0,0,0,1,0,0,0,0,0],[0,0,1,0,0,0,0,0,0],[0,1,0,0,0,0,0,0,0],[0,1,1,1,1,1,1,1,0]])\n",
        "\n",
        "# labellarni shakllantirish\n",
        "A=[1,0,0,0,0,0,0,0,0,0,0,0,0,0,0,0,0,0,0,0,0,0,0,0,0,0]\n",
        "B=[0,1,0,0,0,0,0,0,0,0,0,0,0,0,0,0,0,0,0,0,0,0,0,0,0,0]\n",
        "C=[0,0,1,0,0,0,0,0,0,0,0,0,0,0,0,0,0,0,0,0,0,0,0,0,0,0]\n",
        "D=[0,0,0,1,0,0,0,0,0,0,0,0,0,0,0,0,0,0,0,0,0,0,0,0,0,0]\n",
        "E=[0,0,0,0,1,0,0,0,0,0,0,0,0,0,0,0,0,0,0,0,0,0,0,0,0,0]\n",
        "F=[0,0,0,0,0,1,0,0,0,0,0,0,0,0,0,0,0,0,0,0,0,0,0,0,0,0]\n",
        "G=[0,0,0,0,0,0,1,0,0,0,0,0,0,0,0,0,0,0,0,0,0,0,0,0,0,0]\n",
        "H=[0,0,0,0,0,0,0,1,0,0,0,0,0,0,0,0,0,0,0,0,0,0,0,0,0,0]\n",
        "I=[0,0,0,0,0,0,0,0,1,0,0,0,0,0,0,0,0,0,0,0,0,0,0,0,0,0]\n",
        "J=[0,0,0,0,0,0,0,0,0,1,0,0,0,0,0,0,0,0,0,0,0,0,0,0,0,0]\n",
        "K=[0,0,0,0,0,0,0,0,0,0,1,0,0,0,0,0,0,0,0,0,0,0,0,0,0,0]\n",
        "L=[0,0,0,0,0,0,0,0,0,0,0,1,0,0,0,0,0,0,0,0,0,0,0,0,0,0]\n",
        "M=[0,0,0,0,0,0,0,0,0,0,0,0,1,0,0,0,0,0,0,0,0,0,0,0,0,0]\n",
        "N=[0,0,0,0,0,0,0,0,0,0,0,0,0,1,0,0,0,0,0,0,0,0,0,0,0,0]\n",
        "O=[0,0,0,0,0,0,0,0,0,0,0,0,0,0,1,0,0,0,0,0,0,0,0,0,0,0]\n",
        "P=[0,0,0,0,0,0,0,0,0,0,0,0,0,0,0,1,0,0,0,0,0,0,0,0,0,0]\n",
        "Q=[0,0,0,0,0,0,0,0,0,0,0,0,0,0,0,0,1,0,0,0,0,0,0,0,0,0]\n",
        "R=[0,0,0,0,0,0,0,0,0,0,0,0,0,0,0,0,0,1,0,0,0,0,0,0,0,0]\n",
        "S=[0,0,0,0,0,0,0,0,0,0,0,0,0,0,0,0,0,0,1,0,0,0,0,0,0,0]\n",
        "T=[0,0,0,0,0,0,0,0,0,0,0,0,0,0,0,0,0,0,0,1,0,0,0,0,0,0]\n",
        "U=[0,0,0,0,0,0,0,0,0,0,0,0,0,0,0,0,0,0,0,0,1,0,0,0,0,0]\n",
        "V=[0,0,0,0,0,0,0,0,0,0,0,0,0,0,0,0,0,0,0,0,0,1,0,0,0,0]\n",
        "W=[0,0,0,0,0,0,0,0,0,0,0,0,0,0,0,0,0,0,0,0,0,0,1,0,0,0]\n",
        "X=[0,0,0,0,0,0,0,0,0,0,0,0,0,0,0,0,0,0,0,0,0,0,0,1,0,0]\n",
        "Y=[0,0,0,0,0,0,0,0,0,0,0,0,0,0,0,0,0,0,0,0,0,0,0,0,1,0]\n",
        "Z=[0,0,0,0,0,0,0,0,0,0,0,0,0,0,0,0,0,0,0,0,0,0,0,0,0,1]\n",
        "\n",
        "# massivdagi vektorlar asosida harflarni chop etish funksiyalari\n",
        "plt.imshow(np.array(a).reshape(9, 9)); plt.show() \n",
        "plt.imshow(np.array(b).reshape(9, 9)); plt.show()\n",
        "plt.imshow(np.array(c).reshape(9, 9)); plt.show()\n",
        "plt.imshow(np.array(d).reshape(9, 9)); plt.show()\n",
        "plt.imshow(np.array(e).reshape(9, 9)); plt.show()\n",
        "plt.imshow(np.array(f).reshape(9, 9)); plt.show()\n",
        "plt.imshow(np.array(g).reshape(9, 9)); plt.show()\n",
        "plt.imshow(np.array(h).reshape(9, 9)); plt.show()\n",
        "plt.imshow(np.array(i).reshape(9, 9)); plt.show()\n",
        "plt.imshow(np.array(j).reshape(9, 9)); plt.show()\n",
        "plt.imshow(np.array(k).reshape(9, 9)); plt.show()\n",
        "plt.imshow(np.array(l).reshape(9, 9)); plt.show()\n",
        "plt.imshow(np.array(m).reshape(9, 9)); plt.show()\n",
        "plt.imshow(np.array(n).reshape(9, 9)); plt.show()\n",
        "plt.imshow(np.array(o).reshape(9, 9)); plt.show()\n",
        "plt.imshow(np.array(p).reshape(9, 9)); plt.show()\n",
        "plt.imshow(np.array(q).reshape(9, 9)); plt.show()\n",
        "plt.imshow(np.array(r).reshape(9, 9)); plt.show()\n",
        "plt.imshow(np.array(s).reshape(9, 9)); plt.show()\n",
        "plt.imshow(np.array(t).reshape(9, 9)); plt.show()\n",
        "plt.imshow(np.array(u).reshape(9, 9)); plt.show()\n",
        "plt.imshow(np.array(v).reshape(9, 9)); plt.show()\n",
        "plt.imshow(np.array(w).reshape(9, 9)); plt.show()\n",
        "plt.imshow(np.array(x).reshape(9, 9)); plt.show()\n",
        "plt.imshow(np.array(y).reshape(9, 9)); plt.show()\n",
        "plt.imshow(np.array(z).reshape(9, 9)); plt.show()\n"
      ],
      "execution_count": 1,
      "outputs": [
        {
          "output_type": "display_data",
          "data": {
            "image/png": "[encoded data removed]",
            "text/plain": [
              "<Figure size 432x288 with 1 Axes>"
            ]
          },
          "metadata": {
            "tags": [],
            "needs_background": "light"
          }
        },
        {
          "output_type": "display_data",
          "data": {
            "image/png": "[encoded data removed]",
            "text/plain": [
              "<Figure size 432x288 with 1 Axes>"
            ]
          },
          "metadata": {
            "tags": [],
            "needs_background": "light"
          }
        },
        {
          "output_type": "display_data",
          "data": {
            "image/png": "[encoded data removed]",
            "text/plain": [
              "<Figure size 432x288 with 1 Axes>"
            ]
          },
          "metadata": {
            "tags": [],
            "needs_background": "light"
          }
        },
        {
          "output_type": "display_data",
          "data": {
            "image/png": "[encoded data removed]",
            "text/plain": [
              "<Figure size 432x288 with 1 Axes>"
            ]
          },
          "metadata": {
            "tags": [],
            "needs_background": "light"
          }
        },
        {
          "output_type": "display_data",
          "data": {
            "image/png": "[encoded data removed]",
            "text/plain": [
              "<Figure size 432x288 with 1 Axes>"
            ]
          },
          "metadata": {
            "tags": [],
            "needs_background": "light"
          }
        },
        {
          "output_type": "display_data",
          "data": {
            "image/png": "[encoded data removed]",
            "text/plain": [
              "<Figure size 432x288 with 1 Axes>"
            ]
          },
          "metadata": {
            "tags": [],
            "needs_background": "light"
          }
        },
        {
          "output_type": "display_data",
          "data": {
            "image/png": "[encoded data removed]",
            "text/plain": [
              "<Figure size 432x288 with 1 Axes>"
            ]
          },
          "metadata": {
            "tags": [],
            "needs_background": "light"
          }
        },
        {
          "output_type": "display_data",
          "data": {
            "image/png": "[encoded data removed]",
            "text/plain": [
              "<Figure size 432x288 with 1 Axes>"
            ]
          },
          "metadata": {
            "tags": [],
            "needs_background": "light"
          }
        },
        {
          "output_type": "display_data",
          "data": {
            "image/png": "[encoded data removed]",
            "text/plain": [
              "<Figure size 432x288 with 1 Axes>"
            ]
          },
          "metadata": {
            "tags": [],
            "needs_background": "light"
          }
        },
        {
          "output_type": "display_data",
          "data": {
            "image/png": "[encoded data removed]",
            "text/plain": [
              "<Figure size 432x288 with 1 Axes>"
            ]
          },
          "metadata": {
            "tags": [],
            "needs_background": "light"
          }
        },
        {
          "output_type": "display_data",
          "data": {
            "image/png": "[encoded data removed]",
            "text/plain": [
              "<Figure size 432x288 with 1 Axes>"
            ]
          },
          "metadata": {
            "tags": [],
            "needs_background": "light"
          }
        },
        {
          "output_type": "display_data",
          "data": {
            "image/png": "[encoded data removed]",
            "text/plain": [
              "<Figure size 432x288 with 1 Axes>"
            ]
          },
          "metadata": {
            "tags": [],
            "needs_background": "light"
          }
        },
        {
          "output_type": "display_data",
          "data": {
            "image/png": "[encoded data removed]",
            "text/plain": [
              "<Figure size 432x288 with 1 Axes>"
            ]
          },
          "metadata": {
            "tags": [],
            "needs_background": "light"
          }
        },
        {
          "output_type": "display_data",
          "data": {
            "image/png": "[encoded data removed]",
            "text/plain": [
              "<Figure size 432x288 with 1 Axes>"
            ]
          },
          "metadata": {
            "tags": [],
            "needs_background": "light"
          }
        },
        {
          "output_type": "display_data",
          "data": {
            "image/png": "[encoded data removed]",
            "text/plain": [
              "<Figure size 432x288 with 1 Axes>"
            ]
          },
          "metadata": {
            "tags": [],
            "needs_background": "light"
          }
        },
        {
          "output_type": "display_data",
          "data": {
            "image/png": "[encoded data removed]",
            "text/plain": [
              "<Figure size 432x288 with 1 Axes>"
            ]
          },
          "metadata": {
            "tags": [],
            "needs_background": "light"
          }
        },
        {
          "output_type": "display_data",
          "data": {
            "image/png": "[encoded data removed]",
            "text/plain": [
              "<Figure size 432x288 with 1 Axes>"
            ]
          },
          "metadata": {
            "tags": [],
            "needs_background": "light"
          }
        },
        {
          "output_type": "display_data",
          "data": {
            "image/png": "[encoded data removed]",
            "text/plain": [
              "<Figure size 432x288 with 1 Axes>"
            ]
          },
          "metadata": {
            "tags": [],
            "needs_background": "light"
          }
        },
        {
          "output_type": "display_data",
          "data": {
            "image/png": "[encoded data removed]",
            "text/plain": [
              "<Figure size 432x288 with 1 Axes>"
            ]
          },
          "metadata": {
            "tags": [],
            "needs_background": "light"
          }
        },
        {
          "output_type": "display_data",
          "data": {
            "image/png": "[encoded data removed]",
            "text/plain": [
              "<Figure size 432x288 with 1 Axes>"
            ]
          },
          "metadata": {
            "tags": [],
            "needs_background": "light"
          }
        },
        {
          "output_type": "display_data",
          "data": {
            "image/png": "[encoded data removed]",
            "text/plain": [
              "<Figure size 432x288 with 1 Axes>"
            ]
          },
          "metadata": {
            "tags": [],
            "needs_background": "light"
          }
        },
        {
          "output_type": "display_data",
          "data": {
            "image/png": "[encoded data removed]",
            "text/plain": [
              "<Figure size 432x288 with 1 Axes>"
            ]
          },
          "metadata": {
            "tags": [],
            "needs_background": "light"
          }
        },
        {
          "output_type": "display_data",
          "data": {
            "image/png": "[encoded data removed]",
            "text/plain": [
              "<Figure size 432x288 with 1 Axes>"
            ]
          },
          "metadata": {
            "tags": [],
            "needs_background": "light"
          }
        },
        {
          "output_type": "display_data",
          "data": {
            "image/png": "[encoded data removed]",
            "text/plain": [
              "<Figure size 432x288 with 1 Axes>"
            ]
          },
          "metadata": {
            "tags": [],
            "needs_background": "light"
          }
        },
        {
          "output_type": "display_data",
          "data": {
            "image/png": "[encoded data removed]",
            "text/plain": [
              "<Figure size 432x288 with 1 Axes>"
            ]
          },
          "metadata": {
            "tags": [],
            "needs_background": "light"
          }
        },
        {
          "output_type": "display_data",
          "data": {
            "image/png": "[encoded data removed]",
            "text/plain": [
              "<Figure size 432x288 with 1 Axes>"
            ]
          },
          "metadata": {
            "tags": [],
            "needs_background": "light"
          }
        }
      ]
    },
    {
      "cell_type": "code",
      "metadata": {
        "id": "yoWi9bXtf17J",
        "colab": {
          "base_uri": "https://localhost:8080/"
        },
        "outputId": "830eb64d-15eb-4975-dc84-0b97a5625131"
      },
      "source": [
        "#Kiruvchi ma’lumotlar\n",
        "\n",
        "\"\"\"a =[0, 0, 1, 1, 0, 0, #Bu eski kod\n",
        "    0, 1, 0, 0, 1, 0,\n",
        "    1, 1, 1, 1, 1, 1,\n",
        "    1, 0, 0, 0, 0, 1,\n",
        "    1, 0, 0, 0, 0, 1]\n",
        "\n",
        "b =[0, 1, 1, 1, 1, 0,  #Bu eski kod\n",
        "    0, 1, 0, 0, 1, 0,\n",
        "    0, 1, 1, 1, 1, 0,\n",
        "    0, 1, 0, 0, 1, 0,\n",
        "    0, 1, 1, 1, 1, 0]\n",
        "\n",
        "c =[0, 1, 1, 1, 1, 0,  #Bu eski kod\n",
        "    0, 1, 0, 0, 0, 0,\n",
        "    0, 1, 0, 0, 0, 0,\n",
        "    0, 1, 0, 0, 0, 0,\n",
        "    0, 1, 1, 1, 1, 0]\"\"\"\n",
        "\n",
        "# yuqoridagi blokda ushbu kod yozilgani uchun bu yerda uni takrorlash shart emas, shuning uchun bu blokni comment qilib qo'ydim\n",
        "\"\"\"a = np.array([[0,0,0,0,1,0,0,0,0],[0,0,0,1,0,1,0,0,0],[0,0,0,1,0,1,0,0,0],[0,0,1,0,0,0,1,0,0],[0,0,1,0,0,0,1,0,0],[0,1,1,1,1,1,1,1,0],[0,1,0,0,0,0,0,1,0],[1,0,0,0,0,0,0,0,1],[1,0,0,0,0,0,0,0,1]])\n",
        "b = np.array([[0,0,1,1,1,1,0,0,0],[0,0,1,0,0,0,1,0,0],[0,0,1,0,0,0,1,0,0],[0,0,1,0,0,0,1,0,0],[0,0,1,1,1,1,0,0,0],[0,0,1,0,0,0,1,0,0],[0,0,1,0,0,0,1,0,0],[0,0,1,0,0,0,1,0,0],[0,0,1,1,1,1,0,0,0]])\n",
        "c = np.array([[0,0,0,1,1,1,0,0,0],[0,0,1,0,0,0,1,0,0],[0,1,0,0,0,0,0,1,0],[0,1,0,0,0,0,0,0,0],[0,1,0,0,0,0,0,0,0],[0,1,0,0,0,0,0,0,0],[0,1,0,0,0,0,0,1,0],[0,0,1,0,0,0,1,0,0],[0,0,0,1,1,1,0,0,0]])\n",
        "d = np.array([[0,0,1,1,1,1,0,0,0],[0,0,1,0,0,0,1,0,0],[0,0,1,0,0,0,0,1,0],[0,0,1,0,0,0,0,1,0],[0,0,1,0,0,0,0,1,0],[0,0,1,0,0,0,0,1,0],[0,0,1,0,0,0,0,1,0],[0,0,1,0,0,0,1,0,0],[0,0,1,1,1,1,0,0,0]])\n",
        "e = np.array([[0,0,1,1,1,1,1,0,0],[0,0,1,0,0,0,1,0,0],[0,0,1,0,0,0,0,0,0],[0,0,1,0,0,0,0,0,0],[0,0,1,1,1,0,0,0,0],[0,0,1,0,0,0,0,0,0],[0,0,1,0,0,0,0,0,0],[0,0,1,0,0,0,1,0,0],[0,0,1,1,1,1,1,0,0]])\n",
        "f = np.array([[0,0,1,1,1,1,1,0,0],[0,0,1,0,0,0,1,0,0],[0,0,1,0,0,0,0,0,0],[0,0,1,0,0,0,0,0,0],[0,0,1,1,1,0,0,0,0],[0,0,1,0,0,0,0,0,0],[0,0,1,0,0,0,0,0,0],[0,0,1,0,0,0,0,0,0],[0,0,1,0,0,0,0,0,0]])\n",
        "g = np.array([[0,0,0,1,1,1,0,0,0],[0,0,1,0,0,0,1,0,0],[0,1,0,0,0,0,0,1,0],[0,1,0,0,0,0,0,0,0],[0,1,0,0,0,1,1,0,0],[0,1,0,0,0,0,0,1,0],[0,1,0,0,0,0,0,1,0],[0,0,1,0,0,0,1,0,0],[0,0,0,1,1,1,0,0,0]])\n",
        "h = np.array([[0,0,1,0,0,0,1,0,0],[0,0,1,0,0,0,1,0,0],[0,0,1,0,0,0,1,0,0],[0,0,1,0,0,0,1,0,0],[0,0,1,1,1,1,1,0,0],[0,0,1,0,0,0,1,0,0],[0,0,1,0,0,0,1,0,0],[0,0,1,0,0,0,1,0,0],[0,0,1,0,0,0,1,0,0]])\n",
        "i = np.array([[0,0,0,1,1,1,0,0,0],[0,0,0,0,1,0,0,0,0],[0,0,0,0,1,0,0,0,0],[0,0,0,0,1,0,0,0,0],[0,0,0,0,1,0,0,0,0],[0,0,0,0,1,0,0,0,0],[0,0,0,0,1,0,0,0,0],[0,0,0,0,1,0,0,0,0],[0,0,0,1,1,1,0,0,0]])\n",
        "j = np.array([[0,0,0,0,0,1,0,0,0],[0,0,0,0,0,1,0,0,0],[0,0,0,0,0,1,0,0,0],[0,0,0,0,0,1,0,0,0],[0,0,0,0,0,1,0,0,0],[0,0,0,0,0,1,0,0,0],[0,1,0,0,0,1,0,0,0],[0,1,0,0,1,0,0,0,0],[0,0,1,1,0,0,0,0,0]])\n",
        "k = np.array([[0,0,1,0,0,0,1,0,0],[0,0,1,0,0,1,0,0,0],[0,0,1,0,1,0,0,0,0],[0,0,1,1,0,0,0,0,0],[0,0,1,0,1,0,0,0,0],[0,0,1,0,0,1,0,0,0],[0,0,1,0,0,0,1,0,0],[0,0,1,0,0,0,0,1,0],[0,0,1,0,0,0,0,0,1]])\n",
        "l = np.array([[0,0,1,0,0,0,0,0,0],[0,0,1,0,0,0,0,0,0],[0,0,1,0,0,0,0,0,0],[0,0,1,0,0,0,0,0,0],[0,0,1,0,0,0,0,0,0],[0,0,1,0,0,0,0,0,0],[0,0,1,0,0,0,0,0,0],[0,0,1,0,0,0,1,0,0],[0,0,1,1,1,1,1,0,0]])\n",
        "m = np.array([[0,1,0,0,0,0,0,1,0],[0,1,1,0,0,0,1,1,0],[0,1,0,1,0,1,0,1,0],[0,1,0,0,1,0,0,1,0],[0,1,0,0,1,0,0,1,0],[0,1,0,0,0,0,0,1,0],[0,1,0,0,0,0,0,1,0],[0,1,0,0,0,0,0,1,0],[0,1,0,0,0,0,0,1,0]])\n",
        "n = np.array([[0,1,0,0,0,0,0,1,0],[0,1,1,0,0,0,0,1,0],[0,1,1,0,0,0,0,1,0],[0,1,0,1,0,0,0,1,0],[0,1,0,0,1,0,0,1,0],[0,1,0,0,0,1,0,1,0],[0,1,0,0,0,0,1,1,0],[0,1,0,0,0,0,1,1,0],[0,1,0,0,0,0,0,1,0]])\n",
        "o = np.array([[0,0,0,1,1,1,0,0,0],[0,0,1,0,0,0,1,0,0],[0,1,0,0,0,0,0,1,0],[0,1,0,0,0,0,0,1,0],[0,1,0,0,0,0,0,1,0],[0,1,0,0,0,0,0,1,0],[0,1,0,0,0,0,0,1,0],[0,0,1,0,0,0,1,0,0],[0,0,0,1,1,1,0,0,0]])\n",
        "p = np.array([[0,1,1,1,1,1,0,0,0],[0,1,0,0,0,0,1,0,0],[0,1,0,0,0,0,0,1,0],[0,1,0,0,0,0,0,1,0],[0,1,0,0,0,0,1,0,0],[0,1,1,1,1,1,0,0,0],[0,1,0,0,0,0,0,0,0],[0,1,0,0,0,0,0,0,0],[0,1,0,0,0,0,0,0,0]])\n",
        "q = np.array([[0,0,0,1,1,1,0,0,0],[0,0,1,0,0,0,1,0,0],[0,1,0,0,0,0,0,1,0],[0,1,0,0,0,0,0,1,0],[0,1,0,0,0,0,0,1,0],[0,1,0,0,0,0,0,1,0],[0,1,0,0,0,1,0,1,0],[0,0,1,0,0,0,1,0,0],[0,0,0,1,1,1,0,1,0]])\n",
        "r = np.array([[0,1,1,1,1,1,0,0,0],[0,1,0,0,0,0,1,0,0],[0,1,0,0,0,0,0,1,0],[0,1,0,0,0,0,0,1,0],[0,1,0,0,0,0,1,0,0],[0,1,1,1,1,1,0,0,0],[0,1,0,0,0,1,0,0,0],[0,1,0,0,0,0,1,0,0],[0,1,0,0,0,0,0,1,0]])\n",
        "s = np.array([[0,0,0,1,1,1,0,0,0],[0,0,1,0,0,0,1,0,0],[0,1,0,0,0,0,0,1,0],[0,0,1,0,0,0,0,0,0],[0,0,0,1,1,0,0,0,0],[0,0,0,0,0,1,1,0,0],[0,1,0,0,0,0,0,1,0],[0,0,1,0,0,0,1,0,0],[0,0,0,1,1,1,0,0,0]])\n",
        "t = np.array([[0,1,1,1,1,1,1,1,0],[0,0,0,0,1,0,0,0,0],[0,0,0,0,1,0,0,0,0],[0,0,0,0,1,0,0,0,0],[0,0,0,0,1,0,0,0,0],[0,0,0,0,1,0,0,0,0],[0,0,0,0,1,0,0,0,0],[0,0,0,0,1,0,0,0,0],[0,0,0,0,1,0,0,0,0]])\n",
        "u = np.array([[0,1,0,0,0,0,0,1,0],[0,1,0,0,0,0,0,1,0],[0,1,0,0,0,0,0,1,0],[0,1,0,0,0,0,0,1,0],[0,1,0,0,0,0,0,1,0],[0,1,0,0,0,0,0,1,0],[0,1,0,0,0,0,0,1,0],[0,0,1,0,0,0,1,0,0],[0,0,0,1,1,1,0,0,0]])\n",
        "v = np.array([[0,1,0,0,0,0,0,1,0],[0,1,0,0,0,0,0,1,0],[0,1,0,0,0,0,0,1,0],[0,0,1,0,0,0,1,0,0],[0,0,1,0,0,0,1,0,0],[0,0,0,1,0,1,0,0,0],[0,0,0,1,0,1,0,0,0],[0,0,0,0,1,0,0,0,0],[0,0,0,0,1,0,0,0,0]])\n",
        "w = np.array([[0,1,0,0,0,0,0,1,0],[0,1,0,0,0,0,0,1,0],[0,1,0,0,0,0,0,1,0],[0,1,0,0,1,0,0,1,0],[0,1,0,0,1,0,0,1,0],[0,1,0,1,0,1,0,1,0],[0,1,0,1,0,1,0,1,0],[0,1,1,0,0,0,1,1,0],[0,1,0,0,0,0,0,1,0]])\n",
        "x = np.array([[0,1,0,0,0,0,0,1,0],[0,1,0,0,0,0,0,1,0],[0,1,0,0,0,0,0,1,0],[0,0,1,0,0,0,1,0,0],[0,0,0,1,1,1,0,0,0],[0,0,1,0,0,0,1,0,0],[0,1,0,0,0,0,0,1,0],[0,1,0,0,0,0,0,1,0],[0,1,0,0,0,0,0,1,0]])\n",
        "y = np.array([[0,1,0,0,0,0,0,1,0],[0,1,0,0,0,0,0,1,0],[0,0,1,0,0,0,1,0,0],[0,0,0,1,0,1,0,0,0],[0,0,0,0,1,0,0,0,0],[0,0,0,0,1,0,0,0,0],[0,0,0,0,1,0,0,0,0],[0,0,0,0,1,0,0,0,0],[0,0,0,0,1,0,0,0,0]])\n",
        "z = np.array([[0,1,1,1,1,1,1,1,0],[0,0,0,0,0,0,0,1,0],[0,0,0,0,0,0,1,0,0],[0,0,0,0,0,1,0,0,0],[0,0,0,0,1,0,0,0,0],[0,0,0,1,0,0,0,0,0],[0,0,1,0,0,0,0,0,0],[0,1,0,0,0,0,0,0,0],[0,1,1,1,1,1,1,1,0]])\"\"\"\n",
        "\n",
        "#y = [[1, 0, 0], [0, 1, 0], [0, 0, 1]] #Bu eski kod\n",
        "# bu kodning o'rniga yuqorida keltirilgan koddan foydalangan holda quyiroqda soddalashtirilgan variantini yozdim\n",
        "\"\"\"y1 = [[1,0,0,0,0,0,0,0,0,0,0,0,0,0,0,0,0,0,0,0,0,0,0,0,0,0],[0,1,0,0,0,0,0,0,0,0,0,0,0,0,0,0,0,0,0,0,0,0,0,0,0,0],[0,0,1,0,0,0,0,0,0,0,0,0,0,0,0,0,0,0,0,0,0,0,0,0,0,0],\n",
        "     [0,0,0,1,0,0,0,0,0,0,0,0,0,0,0,0,0,0,0,0,0,0,0,0,0,0],[0,0,0,0,1,0,0,0,0,0,0,0,0,0,0,0,0,0,0,0,0,0,0,0,0,0],[0,0,0,0,0,1,0,0,0,0,0,0,0,0,0,0,0,0,0,0,0,0,0,0,0,0],\n",
        "     [0,0,0,0,0,0,1,0,0,0,0,0,0,0,0,0,0,0,0,0,0,0,0,0,0,0],[0,0,0,0,0,0,0,1,0,0,0,0,0,0,0,0,0,0,0,0,0,0,0,0,0,0],[0,0,0,0,0,0,0,0,1,0,0,0,0,0,0,0,0,0,0,0,0,0,0,0,0,0],\n",
        "     [0,0,0,0,0,0,0,0,0,1,0,0,0,0,0,0,0,0,0,0,0,0,0,0,0,0],[0,0,0,0,0,0,0,0,0,0,1,0,0,0,0,0,0,0,0,0,0,0,0,0,0,0],[0,0,0,0,0,0,0,0,0,0,0,1,0,0,0,0,0,0,0,0,0,0,0,0,0,0],\n",
        "     [0,0,0,0,0,0,0,0,0,0,0,0,1,0,0,0,0,0,0,0,0,0,0,0,0,0],[0,0,0,0,0,0,0,0,0,0,0,0,0,1,0,0,0,0,0,0,0,0,0,0,0,0],[0,0,0,0,0,0,0,0,0,0,0,0,0,0,1,0,0,0,0,0,0,0,0,0,0,0],\n",
        "     [0,0,0,0,0,0,0,0,0,0,0,0,0,0,0,1,0,0,0,0,0,0,0,0,0,0],[0,0,0,0,0,0,0,0,0,0,0,0,0,0,0,0,1,0,0,0,0,0,0,0,0,0],[0,0,0,0,0,0,0,0,0,0,0,0,0,0,0,0,0,1,0,0,0,0,0,0,0,0],\n",
        "     [0,0,0,0,0,0,0,0,0,0,0,0,0,0,0,0,0,0,1,0,0,0,0,0,0,0],[0,0,0,0,0,0,0,0,0,0,0,0,0,0,0,0,0,0,0,1,0,0,0,0,0,0],[0,0,0,0,0,0,0,0,0,0,0,0,0,0,0,0,0,0,0,0,1,0,0,0,0,0],\n",
        "     [0,0,0,0,0,0,0,0,0,0,0,0,0,0,0,0,0,0,0,0,0,1,0,0,0,0],[0,0,0,0,0,0,0,0,0,0,0,0,0,0,0,0,0,0,0,0,0,0,1,0,0,0],[0,0,0,0,0,0,0,0,0,0,0,0,0,0,0,0,0,0,0,0,0,0,0,1,0,0],\n",
        "     [0,0,0,0,0,0,0,0,0,0,0,0,0,0,0,0,0,0,0,0,0,0,0,0,1,0],[0,0,0,0,0,0,0,0,0,0,0,0,0,0,0,0,0,0,0,0,0,0,0,0,0,1]]\"\"\"\n",
        "# y1 uchun soddalashtirilgan variantini \n",
        "y1=[A,B,C,D,E,F,G,H,I,J,K,L,M,N,O,P,Q,R,S,T,U,V,W,X,Y,Z] \n",
        "\n",
        "#x = [np.array(a).reshape(1,30), np.array(b).reshape(1,30), np.array(c).reshape(1, 30)] #Bu eski kod\n",
        "x1 = [np.array(a).reshape(1,81), np.array(b).reshape(1,81), np.array(c).reshape(1, 81), np.array(d).reshape(1, 81), np.array(e).reshape(1, 81), np.array(f).reshape(1, 81),\n",
        "     np.array(g).reshape(1, 81), np.array(h).reshape(1, 81), np.array(i).reshape(1, 81), np.array(j).reshape(1, 81), np.array(k).reshape(1, 81), np.array(l).reshape(1, 81),\n",
        "     np.array(m).reshape(1, 81), np.array(n).reshape(1, 81), np.array(o).reshape(1, 81), np.array(p).reshape(1, 81), np.array(q).reshape(1, 81), np.array(r).reshape(1, 81),\n",
        "     np.array(s).reshape(1, 81), np.array(t).reshape(1, 81), np.array(u).reshape(1, 81), np.array(v).reshape(1, 81), np.array(w).reshape(1, 81), np.array(x).reshape(1, 81),\n",
        "     np.array(y).reshape(1, 81), np.array(z).reshape(1, 81)]\n",
        "\n",
        "# Har bir kiruvchi ma’lumot uchun “label” lar ham numppy array ko’rinishiga o’tkaziladi \n",
        "y1 = np.array(y1)\n",
        "# global w1, w2\n",
        "#Natijani chop qilish\n",
        "print(x1, \"\\n\\n\", y1)"
      ],
      "execution_count": 2,
      "outputs": [
        {
          "output_type": "stream",
          "text": [
            "[array([[0, 0, 0, 0, 1, 0, 0, 0, 0, 0, 0, 0, 1, 0, 1, 0, 0, 0, 0, 0, 0, 1,\n",
            "        0, 1, 0, 0, 0, 0, 0, 1, 0, 0, 0, 1, 0, 0, 0, 0, 1, 0, 0, 0, 1, 0,\n",
            "        0, 0, 1, 1, 1, 1, 1, 1, 1, 0, 0, 1, 0, 0, 0, 0, 0, 1, 0, 1, 0, 0,\n",
            "        0, 0, 0, 0, 0, 1, 1, 0, 0, 0, 0, 0, 0, 0, 1]]), array([[0, 0, 1, 1, 1, 1, 0, 0, 0, 0, 0, 1, 0, 0, 0, 1, 0, 0, 0, 0, 1, 0,\n",
            "        0, 0, 1, 0, 0, 0, 0, 1, 0, 0, 0, 1, 0, 0, 0, 0, 1, 1, 1, 1, 0, 0,\n",
            "        0, 0, 0, 1, 0, 0, 0, 1, 0, 0, 0, 0, 1, 0, 0, 0, 1, 0, 0, 0, 0, 1,\n",
            "        0, 0, 0, 1, 0, 0, 0, 0, 1, 1, 1, 1, 0, 0, 0]]), array([[0, 0, 0, 1, 1, 1, 0, 0, 0, 0, 0, 1, 0, 0, 0, 1, 0, 0, 0, 1, 0, 0,\n",
            "        0, 0, 0, 1, 0, 0, 1, 0, 0, 0, 0, 0, 0, 0, 0, 1, 0, 0, 0, 0, 0, 0,\n",
            "        0, 0, 1, 0, 0, 0, 0, 0, 0, 0, 0, 1, 0, 0, 0, 0, 0, 1, 0, 0, 0, 1,\n",
            "        0, 0, 0, 1, 0, 0, 0, 0, 0, 1, 1, 1, 0, 0, 0]]), array([[0, 0, 1, 1, 1, 1, 0, 0, 0, 0, 0, 1, 0, 0, 0, 1, 0, 0, 0, 0, 1, 0,\n",
            "        0, 0, 0, 1, 0, 0, 0, 1, 0, 0, 0, 0, 1, 0, 0, 0, 1, 0, 0, 0, 0, 1,\n",
            "        0, 0, 0, 1, 0, 0, 0, 0, 1, 0, 0, 0, 1, 0, 0, 0, 0, 1, 0, 0, 0, 1,\n",
            "        0, 0, 0, 1, 0, 0, 0, 0, 1, 1, 1, 1, 0, 0, 0]]), array([[0, 0, 1, 1, 1, 1, 1, 0, 0, 0, 0, 1, 0, 0, 0, 1, 0, 0, 0, 0, 1, 0,\n",
            "        0, 0, 0, 0, 0, 0, 0, 1, 0, 0, 0, 0, 0, 0, 0, 0, 1, 1, 1, 0, 0, 0,\n",
            "        0, 0, 0, 1, 0, 0, 0, 0, 0, 0, 0, 0, 1, 0, 0, 0, 0, 0, 0, 0, 0, 1,\n",
            "        0, 0, 0, 1, 0, 0, 0, 0, 1, 1, 1, 1, 1, 0, 0]]), array([[0, 0, 1, 1, 1, 1, 1, 0, 0, 0, 0, 1, 0, 0, 0, 1, 0, 0, 0, 0, 1, 0,\n",
            "        0, 0, 0, 0, 0, 0, 0, 1, 0, 0, 0, 0, 0, 0, 0, 0, 1, 1, 1, 0, 0, 0,\n",
            "        0, 0, 0, 1, 0, 0, 0, 0, 0, 0, 0, 0, 1, 0, 0, 0, 0, 0, 0, 0, 0, 1,\n",
            "        0, 0, 0, 0, 0, 0, 0, 0, 1, 0, 0, 0, 0, 0, 0]]), array([[0, 0, 0, 1, 1, 1, 0, 0, 0, 0, 0, 1, 0, 0, 0, 1, 0, 0, 0, 1, 0, 0,\n",
            "        0, 0, 0, 1, 0, 0, 1, 0, 0, 0, 0, 0, 0, 0, 0, 1, 0, 0, 0, 1, 1, 0,\n",
            "        0, 0, 1, 0, 0, 0, 0, 0, 1, 0, 0, 1, 0, 0, 0, 0, 0, 1, 0, 0, 0, 1,\n",
            "        0, 0, 0, 1, 0, 0, 0, 0, 0, 1, 1, 1, 0, 0, 0]]), array([[0, 0, 1, 0, 0, 0, 1, 0, 0, 0, 0, 1, 0, 0, 0, 1, 0, 0, 0, 0, 1, 0,\n",
            "        0, 0, 1, 0, 0, 0, 0, 1, 0, 0, 0, 1, 0, 0, 0, 0, 1, 1, 1, 1, 1, 0,\n",
            "        0, 0, 0, 1, 0, 0, 0, 1, 0, 0, 0, 0, 1, 0, 0, 0, 1, 0, 0, 0, 0, 1,\n",
            "        0, 0, 0, 1, 0, 0, 0, 0, 1, 0, 0, 0, 1, 0, 0]]), array([[0, 0, 0, 1, 1, 1, 0, 0, 0, 0, 0, 0, 0, 1, 0, 0, 0, 0, 0, 0, 0, 0,\n",
            "        1, 0, 0, 0, 0, 0, 0, 0, 0, 1, 0, 0, 0, 0, 0, 0, 0, 0, 1, 0, 0, 0,\n",
            "        0, 0, 0, 0, 0, 1, 0, 0, 0, 0, 0, 0, 0, 0, 1, 0, 0, 0, 0, 0, 0, 0,\n",
            "        0, 1, 0, 0, 0, 0, 0, 0, 0, 1, 1, 1, 0, 0, 0]]), array([[0, 0, 0, 0, 0, 1, 0, 0, 0, 0, 0, 0, 0, 0, 1, 0, 0, 0, 0, 0, 0, 0,\n",
            "        0, 1, 0, 0, 0, 0, 0, 0, 0, 0, 1, 0, 0, 0, 0, 0, 0, 0, 0, 1, 0, 0,\n",
            "        0, 0, 0, 0, 0, 0, 1, 0, 0, 0, 0, 1, 0, 0, 0, 1, 0, 0, 0, 0, 1, 0,\n",
            "        0, 1, 0, 0, 0, 0, 0, 0, 1, 1, 0, 0, 0, 0, 0]]), array([[0, 0, 1, 0, 0, 0, 1, 0, 0, 0, 0, 1, 0, 0, 1, 0, 0, 0, 0, 0, 1, 0,\n",
            "        1, 0, 0, 0, 0, 0, 0, 1, 1, 0, 0, 0, 0, 0, 0, 0, 1, 0, 1, 0, 0, 0,\n",
            "        0, 0, 0, 1, 0, 0, 1, 0, 0, 0, 0, 0, 1, 0, 0, 0, 1, 0, 0, 0, 0, 1,\n",
            "        0, 0, 0, 0, 1, 0, 0, 0, 1, 0, 0, 0, 0, 0, 1]]), array([[0, 0, 1, 0, 0, 0, 0, 0, 0, 0, 0, 1, 0, 0, 0, 0, 0, 0, 0, 0, 1, 0,\n",
            "        0, 0, 0, 0, 0, 0, 0, 1, 0, 0, 0, 0, 0, 0, 0, 0, 1, 0, 0, 0, 0, 0,\n",
            "        0, 0, 0, 1, 0, 0, 0, 0, 0, 0, 0, 0, 1, 0, 0, 0, 0, 0, 0, 0, 0, 1,\n",
            "        0, 0, 0, 1, 0, 0, 0, 0, 1, 1, 1, 1, 1, 0, 0]]), array([[0, 1, 0, 0, 0, 0, 0, 1, 0, 0, 1, 1, 0, 0, 0, 1, 1, 0, 0, 1, 0, 1,\n",
            "        0, 1, 0, 1, 0, 0, 1, 0, 0, 1, 0, 0, 1, 0, 0, 1, 0, 0, 1, 0, 0, 1,\n",
            "        0, 0, 1, 0, 0, 0, 0, 0, 1, 0, 0, 1, 0, 0, 0, 0, 0, 1, 0, 0, 1, 0,\n",
            "        0, 0, 0, 0, 1, 0, 0, 1, 0, 0, 0, 0, 0, 1, 0]]), array([[0, 1, 0, 0, 0, 0, 0, 1, 0, 0, 1, 1, 0, 0, 0, 0, 1, 0, 0, 1, 1, 0,\n",
            "        0, 0, 0, 1, 0, 0, 1, 0, 1, 0, 0, 0, 1, 0, 0, 1, 0, 0, 1, 0, 0, 1,\n",
            "        0, 0, 1, 0, 0, 0, 1, 0, 1, 0, 0, 1, 0, 0, 0, 0, 1, 1, 0, 0, 1, 0,\n",
            "        0, 0, 0, 1, 1, 0, 0, 1, 0, 0, 0, 0, 0, 1, 0]]), array([[0, 0, 0, 1, 1, 1, 0, 0, 0, 0, 0, 1, 0, 0, 0, 1, 0, 0, 0, 1, 0, 0,\n",
            "        0, 0, 0, 1, 0, 0, 1, 0, 0, 0, 0, 0, 1, 0, 0, 1, 0, 0, 0, 0, 0, 1,\n",
            "        0, 0, 1, 0, 0, 0, 0, 0, 1, 0, 0, 1, 0, 0, 0, 0, 0, 1, 0, 0, 0, 1,\n",
            "        0, 0, 0, 1, 0, 0, 0, 0, 0, 1, 1, 1, 0, 0, 0]]), array([[0, 1, 1, 1, 1, 1, 0, 0, 0, 0, 1, 0, 0, 0, 0, 1, 0, 0, 0, 1, 0, 0,\n",
            "        0, 0, 0, 1, 0, 0, 1, 0, 0, 0, 0, 0, 1, 0, 0, 1, 0, 0, 0, 0, 1, 0,\n",
            "        0, 0, 1, 1, 1, 1, 1, 0, 0, 0, 0, 1, 0, 0, 0, 0, 0, 0, 0, 0, 1, 0,\n",
            "        0, 0, 0, 0, 0, 0, 0, 1, 0, 0, 0, 0, 0, 0, 0]]), array([[0, 0, 0, 1, 1, 1, 0, 0, 0, 0, 0, 1, 0, 0, 0, 1, 0, 0, 0, 1, 0, 0,\n",
            "        0, 0, 0, 1, 0, 0, 1, 0, 0, 0, 0, 0, 1, 0, 0, 1, 0, 0, 0, 0, 0, 1,\n",
            "        0, 0, 1, 0, 0, 0, 0, 0, 1, 0, 0, 1, 0, 0, 0, 1, 0, 1, 0, 0, 0, 1,\n",
            "        0, 0, 0, 1, 0, 0, 0, 0, 0, 1, 1, 1, 0, 1, 0]]), array([[0, 1, 1, 1, 1, 1, 0, 0, 0, 0, 1, 0, 0, 0, 0, 1, 0, 0, 0, 1, 0, 0,\n",
            "        0, 0, 0, 1, 0, 0, 1, 0, 0, 0, 0, 0, 1, 0, 0, 1, 0, 0, 0, 0, 1, 0,\n",
            "        0, 0, 1, 1, 1, 1, 1, 0, 0, 0, 0, 1, 0, 0, 0, 1, 0, 0, 0, 0, 1, 0,\n",
            "        0, 0, 0, 1, 0, 0, 0, 1, 0, 0, 0, 0, 0, 1, 0]]), array([[0, 0, 0, 1, 1, 1, 0, 0, 0, 0, 0, 1, 0, 0, 0, 1, 0, 0, 0, 1, 0, 0,\n",
            "        0, 0, 0, 1, 0, 0, 0, 1, 0, 0, 0, 0, 0, 0, 0, 0, 0, 1, 1, 0, 0, 0,\n",
            "        0, 0, 0, 0, 0, 0, 1, 1, 0, 0, 0, 1, 0, 0, 0, 0, 0, 1, 0, 0, 0, 1,\n",
            "        0, 0, 0, 1, 0, 0, 0, 0, 0, 1, 1, 1, 0, 0, 0]]), array([[0, 1, 1, 1, 1, 1, 1, 1, 0, 0, 0, 0, 0, 1, 0, 0, 0, 0, 0, 0, 0, 0,\n",
            "        1, 0, 0, 0, 0, 0, 0, 0, 0, 1, 0, 0, 0, 0, 0, 0, 0, 0, 1, 0, 0, 0,\n",
            "        0, 0, 0, 0, 0, 1, 0, 0, 0, 0, 0, 0, 0, 0, 1, 0, 0, 0, 0, 0, 0, 0,\n",
            "        0, 1, 0, 0, 0, 0, 0, 0, 0, 0, 1, 0, 0, 0, 0]]), array([[0, 1, 0, 0, 0, 0, 0, 1, 0, 0, 1, 0, 0, 0, 0, 0, 1, 0, 0, 1, 0, 0,\n",
            "        0, 0, 0, 1, 0, 0, 1, 0, 0, 0, 0, 0, 1, 0, 0, 1, 0, 0, 0, 0, 0, 1,\n",
            "        0, 0, 1, 0, 0, 0, 0, 0, 1, 0, 0, 1, 0, 0, 0, 0, 0, 1, 0, 0, 0, 1,\n",
            "        0, 0, 0, 1, 0, 0, 0, 0, 0, 1, 1, 1, 0, 0, 0]]), array([[0, 1, 0, 0, 0, 0, 0, 1, 0, 0, 1, 0, 0, 0, 0, 0, 1, 0, 0, 1, 0, 0,\n",
            "        0, 0, 0, 1, 0, 0, 0, 1, 0, 0, 0, 1, 0, 0, 0, 0, 1, 0, 0, 0, 1, 0,\n",
            "        0, 0, 0, 0, 1, 0, 1, 0, 0, 0, 0, 0, 0, 1, 0, 1, 0, 0, 0, 0, 0, 0,\n",
            "        0, 1, 0, 0, 0, 0, 0, 0, 0, 0, 1, 0, 0, 0, 0]]), array([[0, 1, 0, 0, 0, 0, 0, 1, 0, 0, 1, 0, 0, 0, 0, 0, 1, 0, 0, 1, 0, 0,\n",
            "        0, 0, 0, 1, 0, 0, 1, 0, 0, 1, 0, 0, 1, 0, 0, 1, 0, 0, 1, 0, 0, 1,\n",
            "        0, 0, 1, 0, 1, 0, 1, 0, 1, 0, 0, 1, 0, 1, 0, 1, 0, 1, 0, 0, 1, 1,\n",
            "        0, 0, 0, 1, 1, 0, 0, 1, 0, 0, 0, 0, 0, 1, 0]]), array([[0, 1, 0, 0, 0, 0, 0, 1, 0, 0, 1, 0, 0, 0, 0, 0, 1, 0, 0, 1, 0, 0,\n",
            "        0, 0, 0, 1, 0, 0, 0, 1, 0, 0, 0, 1, 0, 0, 0, 0, 0, 1, 1, 1, 0, 0,\n",
            "        0, 0, 0, 1, 0, 0, 0, 1, 0, 0, 0, 1, 0, 0, 0, 0, 0, 1, 0, 0, 1, 0,\n",
            "        0, 0, 0, 0, 1, 0, 0, 1, 0, 0, 0, 0, 0, 1, 0]]), array([[0, 1, 0, 0, 0, 0, 0, 1, 0, 0, 1, 0, 0, 0, 0, 0, 1, 0, 0, 0, 1, 0,\n",
            "        0, 0, 1, 0, 0, 0, 0, 0, 1, 0, 1, 0, 0, 0, 0, 0, 0, 0, 1, 0, 0, 0,\n",
            "        0, 0, 0, 0, 0, 1, 0, 0, 0, 0, 0, 0, 0, 0, 1, 0, 0, 0, 0, 0, 0, 0,\n",
            "        0, 1, 0, 0, 0, 0, 0, 0, 0, 0, 1, 0, 0, 0, 0]]), array([[0, 1, 1, 1, 1, 1, 1, 1, 0, 0, 0, 0, 0, 0, 0, 0, 1, 0, 0, 0, 0, 0,\n",
            "        0, 0, 1, 0, 0, 0, 0, 0, 0, 0, 1, 0, 0, 0, 0, 0, 0, 0, 1, 0, 0, 0,\n",
            "        0, 0, 0, 0, 1, 0, 0, 0, 0, 0, 0, 0, 1, 0, 0, 0, 0, 0, 0, 0, 1, 0,\n",
            "        0, 0, 0, 0, 0, 0, 0, 1, 1, 1, 1, 1, 1, 1, 0]])] \n",
            "\n",
            " [[1 0 0 0 0 0 0 0 0 0 0 0 0 0 0 0 0 0 0 0 0 0 0 0 0 0]\n",
            " [0 1 0 0 0 0 0 0 0 0 0 0 0 0 0 0 0 0 0 0 0 0 0 0 0 0]\n",
            " [0 0 1 0 0 0 0 0 0 0 0 0 0 0 0 0 0 0 0 0 0 0 0 0 0 0]\n",
            " [0 0 0 1 0 0 0 0 0 0 0 0 0 0 0 0 0 0 0 0 0 0 0 0 0 0]\n",
            " [0 0 0 0 1 0 0 0 0 0 0 0 0 0 0 0 0 0 0 0 0 0 0 0 0 0]\n",
            " [0 0 0 0 0 1 0 0 0 0 0 0 0 0 0 0 0 0 0 0 0 0 0 0 0 0]\n",
            " [0 0 0 0 0 0 1 0 0 0 0 0 0 0 0 0 0 0 0 0 0 0 0 0 0 0]\n",
            " [0 0 0 0 0 0 0 1 0 0 0 0 0 0 0 0 0 0 0 0 0 0 0 0 0 0]\n",
            " [0 0 0 0 0 0 0 0 1 0 0 0 0 0 0 0 0 0 0 0 0 0 0 0 0 0]\n",
            " [0 0 0 0 0 0 0 0 0 1 0 0 0 0 0 0 0 0 0 0 0 0 0 0 0 0]\n",
            " [0 0 0 0 0 0 0 0 0 0 1 0 0 0 0 0 0 0 0 0 0 0 0 0 0 0]\n",
            " [0 0 0 0 0 0 0 0 0 0 0 1 0 0 0 0 0 0 0 0 0 0 0 0 0 0]\n",
            " [0 0 0 0 0 0 0 0 0 0 0 0 1 0 0 0 0 0 0 0 0 0 0 0 0 0]\n",
            " [0 0 0 0 0 0 0 0 0 0 0 0 0 1 0 0 0 0 0 0 0 0 0 0 0 0]\n",
            " [0 0 0 0 0 0 0 0 0 0 0 0 0 0 1 0 0 0 0 0 0 0 0 0 0 0]\n",
            " [0 0 0 0 0 0 0 0 0 0 0 0 0 0 0 1 0 0 0 0 0 0 0 0 0 0]\n",
            " [0 0 0 0 0 0 0 0 0 0 0 0 0 0 0 0 1 0 0 0 0 0 0 0 0 0]\n",
            " [0 0 0 0 0 0 0 0 0 0 0 0 0 0 0 0 0 1 0 0 0 0 0 0 0 0]\n",
            " [0 0 0 0 0 0 0 0 0 0 0 0 0 0 0 0 0 0 1 0 0 0 0 0 0 0]\n",
            " [0 0 0 0 0 0 0 0 0 0 0 0 0 0 0 0 0 0 0 1 0 0 0 0 0 0]\n",
            " [0 0 0 0 0 0 0 0 0 0 0 0 0 0 0 0 0 0 0 0 1 0 0 0 0 0]\n",
            " [0 0 0 0 0 0 0 0 0 0 0 0 0 0 0 0 0 0 0 0 0 1 0 0 0 0]\n",
            " [0 0 0 0 0 0 0 0 0 0 0 0 0 0 0 0 0 0 0 0 0 0 1 0 0 0]\n",
            " [0 0 0 0 0 0 0 0 0 0 0 0 0 0 0 0 0 0 0 0 0 0 0 1 0 0]\n",
            " [0 0 0 0 0 0 0 0 0 0 0 0 0 0 0 0 0 0 0 0 0 0 0 0 1 0]\n",
            " [0 0 0 0 0 0 0 0 0 0 0 0 0 0 0 0 0 0 0 0 0 0 0 0 0 1]]\n"
          ],
          "name": "stdout"
        }
      ]
    },
    {
      "cell_type": "code",
      "metadata": {
        "id": "_H5GXghzbhbp",
        "colab": {
          "base_uri": "https://localhost:8080/",
          "height": 1000
        },
        "outputId": "df8542dc-4519-4b64-9f7c-4a2f325de492"
      },
      "source": [
        "# Ushbu kod bloki 26 ta harf uchun ishlaydigan qilib o'zgartirildi, commentlarga tegmadim.\n",
        "# Faollashtirish (activation) funksiyasi\n",
        "def sigmoid(x1):\n",
        "    return (1/(1 + np.exp(-x1)))\n",
        "\n",
        "# Feedforward neyron tarmoq qurish\n",
        "# Kiruvchi qatlam (1, 30)\n",
        "# Yashirin qatlam (1, 5)\n",
        "# Chiquvchi qatlam (3, 3)\n",
        "def f_forward(x, w1, w2):\n",
        "    # yashirin qatlamdagi neyronlar qiymatini hisoblash\n",
        "    z1 = x.dot(w1) # x kiruvchi ma' lumot\n",
        "    a1 = sigmoid(z1) # yashirin qatlam uchun chiqish qiymatlari\n",
        "    \n",
        "    # chiquvchi qatlamdagi neyronlar qiymatini hisoblash\n",
        "    z2 = a1.dot(w2) # yashirin qatlam chiqish qiymatlari\n",
        "    a2 = sigmoid(z2) # chiquvchi qatlam uchun chiqish qiymatlari\n",
        "    return(a2)\n",
        "\n",
        "# Og'irlik koeffitsentlarini (weights) tasodifiy olish\n",
        "def generate_wt(x, y):\n",
        "    l1 =[]\n",
        "    for i1 in range(x*y):\n",
        "        l1.append(np.random.randn())\n",
        "    return(np.array(l1).reshape(x, y))\n",
        "\n",
        "# Mean square error (MSE) usulida loss funksiyasini aniqlash\n",
        "def loss(out, Y):\n",
        "    s1 = (np.square(out-Y))\n",
        "    s1 = np.sum(s1)/len(y1)\n",
        "    return(s1)\n",
        "\n",
        "# Backpropagation\n",
        "def back_prop(x, y, w1, w2, alpha):\n",
        "    # yashirin qatlam\n",
        "    z1 = x.dot(w1) # kiruvchi ma' lumot\n",
        "    a1 = sigmoid(z1) # yashirin qatlam uchun chiqish qiymatlari\n",
        "\n",
        "    # Output layer\n",
        "    z2 = a1.dot(w2) # al yashirin qatlam chiqish qiymatlari\n",
        "    a2 = sigmoid(z2) # chiquvchi qatlam uchun chiqish qiymatlari\n",
        "    \n",
        "    # chiquvchi qatlamdagi xatolik\n",
        "    d2 = (a2 - y)\n",
        "    d1 = np.multiply((w2.dot((d2.transpose()))).transpose(), (np.multiply(a1, 1-a1)))\n",
        "    \n",
        "#     w1 va w2 uchun gradient qiymatlarini hisoblash\n",
        "    w1_adj = x.transpose().dot(d1)\n",
        "    w2_adj = a1.transpose().dot(d2)\n",
        "    \n",
        "    # Og'irlik koeffitsentlarini yangilash\n",
        "    w1 = w1 - (alpha*(w1_adj))\n",
        "    w2 = w2 - (alpha*(w2_adj))\n",
        "    return(w1, w2)\n",
        "\n",
        "# O'qitish funksiyasi\n",
        "def train(x, Y, w1, w2, alpha = 0.01, epoch = 10):\n",
        "    acc =[]\n",
        "    losss =[]\n",
        "    for j1 in range(epoch):\n",
        "        l1 =[]\n",
        "        for i1 in range(len(x)):\n",
        "            out = f_forward(x[i1], w1, w2)\n",
        "            l1.append((loss(out, Y[i1])))\n",
        "            w1, w2 = back_prop(x[i1], y1[i1], w1, w2, alpha)\n",
        "        print(\"epochs:\", j1 + 1, \"======== асс:\", (1- (sum(l1)/len(x)))*100)\n",
        "        acc.append((1-(sum(l1)/len(x)))*100)\n",
        "        losss.append(sum(l1)/len(x))\n",
        "    return(acc, losss, w1, w2)\n",
        "\n",
        "#Bashorat qilish funksiyasi\n",
        "def predict(x, w1, w2) :\n",
        "    Out = f_forward(x, w1, w2)\n",
        "    maxm = 0\n",
        "    k1 = 0\n",
        "    for i1 in range (len(Out[0])):\n",
        "        if(maxm<Out [0][i1]):\n",
        "            maxm = Out[0][i1]\n",
        "            k1 = i1\n",
        "    # menimcha bu yerga sharh shart emas\n",
        "    if(k1 == 0):\n",
        "        print(\"Tasvirdagi harf: A.\")\n",
        "    elif(k1 == 1):\n",
        "        print(\"Tasvirdagi harf: B.\")\n",
        "    elif(k1 == 2):\n",
        "        print(\"Tasvirdagi harf: C.\")\n",
        "    elif(k1 == 3):\n",
        "        print(\"Tasvirdagi harf: D.\")\n",
        "    elif(k1 == 4):\n",
        "        print(\"Tasvirdagi harf: E.\")\n",
        "    elif(k1 == 5):\n",
        "        print(\"Tasvirdagi harf: F.\")\n",
        "    elif(k1 == 6):\n",
        "        print(\"Tasvirdagi harf: G.\")\n",
        "    elif(k1 == 7):\n",
        "        print(\"Tasvirdagi harf: H.\")\n",
        "    elif(k1 == 8):\n",
        "        print(\"Tasvirdagi harf: I.\")\n",
        "    elif(k1 == 9):\n",
        "        print(\"Tasvirdagi harf: J.\")\n",
        "    elif(k1 == 10):\n",
        "        print(\"Tasvirdagi harf: K.\")\n",
        "    elif(k1 == 11):\n",
        "        print(\"Tasvirdagi harf: L.\")\n",
        "    elif(k1 == 12):\n",
        "        print(\"Tasvirdagi harf: M.\")\n",
        "    elif(k1 == 13):\n",
        "        print(\"Tasvirdagi harf: N.\")\n",
        "    elif(k1 == 14):\n",
        "        print(\"Tasvirdagi harf: O.\")\n",
        "    elif(k1 == 15):\n",
        "        print(\"Tasvirdagi harf: P.\")\n",
        "    elif(k1 == 16):\n",
        "        print(\"Tasvirdagi harf: Q.\")\n",
        "    elif(k1 == 17):\n",
        "        print(\"Tasvirdagi harf: R.\")\n",
        "    elif(k1 == 18):\n",
        "        print(\"Tasvirdagi harf: S.\")\n",
        "    elif(k1 == 19):\n",
        "        print(\"Tasvirdagi harf: T.\")\n",
        "    elif(k1 == 20):\n",
        "        print(\"Tasvirdagi harf: U.\")\n",
        "    elif(k1 == 21):\n",
        "        print(\"Tasvirdagi harf: V.\")\n",
        "    elif(k1 == 22):\n",
        "        print(\"Tasvirdagi harf: W.\")\n",
        "    elif(k1 == 23):\n",
        "        print(\"Tasvirdagi harf: X.\")\n",
        "    elif(k1 == 24):\n",
        "        print(\"Tasvirdagi harf: Y.\")\n",
        "    else:\n",
        "        print(\"Tasvirdagi harf: Z.\")        \n",
        "    plt.imshow(x.reshape(9, 9))\n",
        "    plt.show()\n",
        "\n",
        "w1 = generate_wt(81, 9) # tasodifiy og’irlik koeffitsentlari (input-hidden) # o'zgartirildi\n",
        "w2 = generate_wt(9, 26) # tasodifiy og’irlik koeffitsentlari (hidden-output) # o'zgartirildi\n",
        "\n",
        "print(w1, \"\\n\\n\", w2) # tasodifiy olingan qiymatlarni chop qilish\n",
        "acc, losss, w1, w2 = train(x1, y1, w1, w2, 0.1, 100) #modelni o’qitish\n",
        "\n",
        "# yuqoridagi kod bloklarida aniqlangani uchun bu yerda takroran berilmasligi uchun commentga olindi.\n",
        "\"\"\"x1 = [np.array(a).reshape(1,81), np.array(b).reshape(1,81), np.array(c).reshape(1, 81), np.array(d).reshape(1, 81), np.array(e).reshape(1, 81), np.array(f).reshape(1, 81),\n",
        "      np.array(g).reshape(1, 81), np.array(h).reshape(1, 81), np.array(i).reshape(1, 81), np.array(j).reshape(1, 81), np.array(k).reshape(1, 81), np.array(l).reshape(1, 81),\n",
        "      np.array(m).reshape(1, 81), np.array(n).reshape(1, 81), np.array(o).reshape(1, 81), np.array(p).reshape(1, 81), np.array(q).reshape(1, 81), np.array(r).reshape(1, 81),\n",
        "      np.array(s).reshape(1, 81), np.array(t).reshape(1, 81), np.array(u).reshape(1, 81), np.array(v).reshape(1, 81), np.array(w).reshape(1, 81), np.array(x).reshape(1, 81),\n",
        "      np.array(y).reshape(1, 81), np.array(z).reshape(1, 81)]\"\"\"\n",
        "\n",
        "print(\"\\n\", w1, \"\\n\\n\", w2) #model o’qitilgandan keyingi koeffitsentlar\n",
        "\n",
        "predict(x1[0], w1, w2) # o’qitilgan model koeffitsentlarini chop qilish\n",
        "predict(x1[1], w1, w2) # o’qitilgan model koeffitsentlarini chop qilish\n",
        "predict(x1[2], w1, w2) # o’qitilgan model koeffitsentlarini chop qilish\n",
        "predict(x1[3], w1, w2) # o’qitilgan model koeffitsentlarini chop qilish\n",
        "predict(x1[4], w1, w2) # o’qitilgan model koeffitsentlarini chop qilish\n",
        "predict(x1[5], w1, w2) # o’qitilgan model koeffitsentlarini chop qilish\n",
        "predict(x1[6], w1, w2) # o’qitilgan model koeffitsentlarini chop qilish\n",
        "predict(x1[7], w1, w2) # o’qitilgan model koeffitsentlarini chop qilish\n",
        "predict(x1[8], w1, w2) # o’qitilgan model koeffitsentlarini chop qilish\n",
        "predict(x1[9], w1, w2) # o’qitilgan model koeffitsentlarini chop qilish\n",
        "predict(x1[10], w1, w2) # o’qitilgan model koeffitsentlarini chop qilish\n",
        "predict(x1[11], w1, w2) # o’qitilgan model koeffitsentlarini chop qilish\n",
        "predict(x1[12], w1, w2) # o’qitilgan model koeffitsentlarini chop qilish\n",
        "predict(x1[13], w1, w2) # o’qitilgan model koeffitsentlarini chop qilish\n",
        "predict(x1[14], w1, w2) # o’qitilgan model koeffitsentlarini chop qilish\n",
        "predict(x1[15], w1, w2) # o’qitilgan model koeffitsentlarini chop qilish\n",
        "predict(x1[16], w1, w2) # o’qitilgan model koeffitsentlarini chop qilish\n",
        "predict(x1[17], w1, w2) # o’qitilgan model koeffitsentlarini chop qilish\n",
        "predict(x1[18], w1, w2) # o’qitilgan model koeffitsentlarini chop qilish\n",
        "predict(x1[19], w1, w2) # o’qitilgan model koeffitsentlarini chop qilish\n",
        "predict(x1[20], w1, w2) # o’qitilgan model koeffitsentlarini chop qilish\n",
        "predict(x1[21], w1, w2) # o’qitilgan model koeffitsentlarini chop qilish\n",
        "predict(x1[22], w1, w2) # o’qitilgan model koeffitsentlarini chop qilish\n",
        "predict(x1[23], w1, w2) # o’qitilgan model koeffitsentlarini chop qilish\n",
        "predict(x1[24], w1, w2) # o’qitilgan model koeffitsentlarini chop qilish\n",
        "predict(x1[25], w1, w2) # o’qitilgan model koeffitsentlarini chop qilish"
      ],
      "execution_count": 3,
      "outputs": [
        {
          "output_type": "stream",
          "text": [
            "[[-5.86696779e-01  1.01688117e+00  5.76667387e-01 -1.29613100e+00\n",
            "  -7.51733365e-02 -5.26855372e-01  2.18406465e-01  9.21951996e-01\n",
            "   8.81412901e-01]\n",
            " [-5.75661651e-01 -6.46198462e-01  2.46578004e-01 -1.18510835e+00\n",
            "  -6.16425458e-01 -9.96382892e-01  1.12478504e+00  9.03091250e-01\n",
            "   4.59939956e-01]\n",
            " [-1.09942040e+00  2.41172165e-01  2.55223058e-01 -6.25655359e-01\n",
            "  -1.14070655e+00  1.44877787e-01  1.09917766e+00 -3.78997345e-01\n",
            "   1.05150649e+00]\n",
            " [ 1.17827164e+00 -5.56856772e-01  1.06205297e+00 -1.02106572e+00\n",
            "  -6.46084584e-01 -8.67167308e-02 -3.36319339e-01  1.16088724e+00\n",
            "   2.81795549e-01]\n",
            " [ 9.72600452e-01 -1.98254336e-01  2.03503706e+00 -7.39167199e-01\n",
            "  -1.01090527e+00  7.96882670e-01 -1.25562233e-02 -2.20903187e+00\n",
            "   1.15749667e+00]\n",
            " [ 6.92094841e-02  5.36351574e-01 -1.99233643e+00  1.18453604e+00\n",
            "  -4.88859363e-01  6.77277625e-01  1.09247472e+00 -1.10288172e+00\n",
            "   2.47859684e+00]\n",
            " [ 9.98831994e-01  5.62320140e-01 -6.77051996e-01 -1.26111844e+00\n",
            "   1.09898570e-01  1.23180045e+00 -1.02254081e+00 -6.66096445e-01\n",
            "  -1.22015630e-01]\n",
            " [-1.57686422e+00 -5.13320740e-02 -3.73141323e-01 -4.45664504e-01\n",
            "  -1.38774189e+00 -1.09403287e+00 -4.47139918e-01  1.68806086e-02\n",
            "  -1.33354752e+00]\n",
            " [ 2.98558266e-01 -1.26606247e+00 -5.67823353e-01  1.29709156e-01\n",
            "   1.03654421e+00  3.54086810e-01  1.85060871e+00  5.19544098e-01\n",
            "  -6.23843841e-03]\n",
            " [ 4.04504666e-01 -5.49035860e-01 -1.07992199e+00 -2.42715680e-01\n",
            "  -3.34477354e-02  1.45595814e+00 -1.69190762e-01 -7.38017285e-01\n",
            "   9.84657750e-01]\n",
            " [-3.88241132e-01 -8.15504273e-01  5.95374165e-01  1.99743606e-01\n",
            "   7.66630726e-01  6.11698306e-01  1.24414648e+00  9.18318472e-01\n",
            "   8.92093957e-01]\n",
            " [ 8.30159517e-01 -1.65935978e+00  9.53247270e-01 -6.22770489e-01\n",
            "  -4.75297543e-01  8.39467533e-01 -2.31740749e-01 -1.35831391e-02\n",
            "   5.22807186e-02]\n",
            " [-2.50877348e-01 -5.75414782e-01 -4.09303557e-01  7.96001134e-01\n",
            "   1.05339455e+00 -1.89536166e+00  2.41941511e-02  1.19780599e+00\n",
            "  -5.33832744e-01]\n",
            " [ 1.09286401e+00  1.18168124e+00  1.19561579e+00  4.67760560e-01\n",
            "   4.27897182e-01  8.64504913e-01  1.46022834e-02 -2.88638904e-01\n",
            "   1.34268257e+00]\n",
            " [ 1.41397573e+00  9.61304404e-01 -1.05399951e+00 -3.09322663e-01\n",
            "   5.81699171e-01  2.43709321e-02  3.42597493e-01  5.89832246e-01\n",
            "  -1.13042743e-01]\n",
            " [ 1.28063318e+00  2.29517981e+00 -4.62763595e-01  1.07745907e-01\n",
            "  -1.06779588e-01 -4.88512656e-02 -7.42056455e-01  8.98195111e-01\n",
            "  -3.96601472e-01]\n",
            " [-2.21660827e+00 -1.33145607e+00 -1.02107006e+00  6.24215126e-01\n",
            "  -9.44024183e-02 -6.41320023e-02 -4.48341912e-01  3.78154604e-01\n",
            "   1.45760160e-01]\n",
            " [-4.76290547e-01 -1.84823557e+00 -1.02023336e+00  1.44215356e+00\n",
            "  -4.84675513e-01  1.21795644e+00 -2.50687032e-01  1.00411449e+00\n",
            "  -6.66203374e-01]\n",
            " [-1.25407816e+00 -1.03649247e+00 -2.33178784e-01  1.07875025e+00\n",
            "   1.44323077e+00 -1.38315991e-01 -7.65051978e-01 -9.44639152e-01\n",
            "   2.97177510e-02]\n",
            " [ 7.87953008e-01  1.04949973e+00  3.30730468e-01  2.67810131e-02\n",
            "   1.37509502e+00 -5.43229021e-01  3.21733262e-01  1.48664209e+00\n",
            "   9.50727175e-01]\n",
            " [-1.27899836e+00 -1.35987815e+00 -1.32300285e+00  1.88236325e+00\n",
            "  -5.01593856e-01 -1.40228408e-01 -3.79156901e-01 -1.03025020e-01\n",
            "  -4.02132398e-01]\n",
            " [-6.93442445e-01  3.83755928e-01  3.50033820e-01  1.06533057e+00\n",
            "   6.58472674e-02 -6.36000075e-02 -3.63261636e-01  6.50616492e-01\n",
            "   6.46286049e-01]\n",
            " [ 1.01578940e-01 -4.63450570e-01 -1.24139717e+00  7.07618648e-02\n",
            "  -1.00257909e+00  8.48177654e-01 -1.04805264e+00 -4.90640064e-01\n",
            "   8.58334111e-02]\n",
            " [-1.10299769e+00  5.92290340e-01 -1.66915899e+00 -5.27092616e-01\n",
            "   4.22339683e-01  1.33149709e-01 -5.82922356e-01  9.24062403e-01\n",
            "  -2.77163405e-01]\n",
            " [-7.77300490e-01  3.92203598e-01  5.42577871e-01  1.22998509e+00\n",
            "  -1.54847518e+00  5.49668032e-01 -1.19929523e+00 -1.06229524e+00\n",
            "  -2.20237065e-01]\n",
            " [-9.47109456e-01  8.62030312e-01 -4.22872487e-01  2.84797707e-01\n",
            "   3.52264129e-01  1.29063579e-01 -1.43386395e+00 -1.05419788e+00\n",
            "   8.58567245e-01]\n",
            " [ 9.25095583e-01 -5.69620287e-01  1.38778227e+00  5.50737987e-01\n",
            "  -2.84249248e-02 -9.38353211e-01  1.57627038e+00 -6.25356895e-01\n",
            "   1.36955580e+00]\n",
            " [ 1.25607274e+00  5.86451987e-01  1.65012209e+00  6.78283018e-01\n",
            "   1.34679258e+00 -1.12944075e+00  1.92935476e-01  4.58775254e-01\n",
            "   5.68384217e-01]\n",
            " [ 1.06957294e+00  5.49266102e-01  9.84846100e-01  1.34178430e+00\n",
            "  -9.48336833e-01 -6.66268299e-01  5.30578309e-01 -1.39223131e-01\n",
            "   6.79042038e-01]\n",
            " [-1.31547819e+00  1.99379063e+00  2.65637155e-01 -5.55316710e-01\n",
            "  -4.47249631e-01  7.80053835e-01 -1.64095545e-02  2.69770207e-01\n",
            "   1.11738235e+00]\n",
            " [ 1.99695493e+00 -2.44675881e+00  6.24624525e-02 -5.00586233e-01\n",
            "   4.77676786e-01 -9.08515827e-02 -1.01562560e+00 -6.88726497e-01\n",
            "  -5.76572325e-01]\n",
            " [-9.38052548e-01 -4.69109584e-01 -1.01029417e+00 -1.23684303e+00\n",
            "   3.93143973e-02  1.59793030e-01  9.69012038e-01 -5.42259980e-02\n",
            "   1.13115085e+00]\n",
            " [ 3.23567434e-01 -6.22839371e-01 -1.21893189e+00 -9.93906055e-01\n",
            "   4.46265931e-01 -6.56900153e-01 -7.02941352e-01  7.79455369e-01\n",
            "  -1.33541063e+00]\n",
            " [ 4.36851176e-01  4.15692363e-01 -3.05618915e-01 -9.30356552e-01\n",
            "  -3.53135740e-01  2.32957481e+00 -5.73802739e-01 -1.05566402e+00\n",
            "  -2.61031577e-01]\n",
            " [-1.29165163e+00  4.62162768e-02 -1.07792076e+00  2.40548339e-01\n",
            "   4.92226780e-01 -1.59175646e+00  1.21514914e+00  1.03142256e+00\n",
            "  -1.30394142e+00]\n",
            " [-8.85063434e-01  8.95627019e-01 -2.47368245e-01  9.49104298e-01\n",
            "   6.48805345e-01 -7.20718045e-02 -1.99657354e+00 -1.38823718e-01\n",
            "  -4.52875908e-01]\n",
            " [-7.47738842e-01  1.39997700e+00 -6.41286626e-01  3.93566769e-01\n",
            "  -4.38820399e-01 -3.04107005e-01  9.57804601e-02  9.79418706e-01\n",
            "   3.72518042e-01]\n",
            " [-6.36558879e-01 -5.74194412e-01 -5.67027334e-01  7.83617300e-02\n",
            "   1.20583313e+00 -2.26391984e+00  1.19480213e-01 -4.52996611e-01\n",
            "   6.24610112e-01]\n",
            " [-6.60374421e-02  6.30396241e-01  3.63569338e-01  9.93074289e-01\n",
            "  -2.39340119e-01  2.14976609e-01  6.70065175e-01 -3.27596227e-01\n",
            "  -1.21735738e+00]\n",
            " [-9.05744889e-01 -9.28483268e-01 -1.08041196e+00 -1.71888379e+00\n",
            "  -3.44732295e-01 -3.31940574e-01  2.32391577e-01 -3.30091962e-01\n",
            "   1.78528690e-01]\n",
            " [ 8.92798575e-01  7.58816727e-01 -2.53044152e-01  9.23379444e-03\n",
            "  -4.18825960e-01 -1.81133188e+00 -1.13302589e+00 -3.37159204e-01\n",
            "  -1.84193700e+00]\n",
            " [-1.96780376e+00  6.77420466e-01  7.55613664e-02 -8.11734088e-01\n",
            "  -7.65481402e-01  4.56735644e-01  2.12224864e+00  1.63186894e-01\n",
            "  -1.86991691e+00]\n",
            " [-1.00517899e+00  7.04409627e-01 -1.64813084e+00 -4.03380916e-02\n",
            "  -3.06204717e-01 -2.60850734e-01  4.80856095e-01  5.57505436e-01\n",
            "  -2.03691387e+00]\n",
            " [-1.96190682e+00  3.99404109e-02  1.71102051e+00  1.48714916e-01\n",
            "   4.56311369e-01 -1.09985246e+00  9.29222725e-01  6.04763450e-01\n",
            "   1.76774244e+00]\n",
            " [ 1.19670781e-01 -8.68795936e-01 -9.55492668e-02  2.64741474e-01\n",
            "   1.43475775e+00 -1.23025092e+00 -2.00886692e+00 -1.64151008e+00\n",
            "  -7.55292239e-01]\n",
            " [-3.95611806e-01 -1.04291569e+00 -3.62267045e-01 -9.83805648e-01\n",
            "  -3.32745633e-01 -9.58838061e-01  5.95296760e-01 -1.07673132e+00\n",
            "   3.42632747e-01]\n",
            " [ 2.50501947e-01  5.90614213e-01  5.33645116e-01 -9.41706116e-01\n",
            "  -1.45983472e+00  3.27815254e-01  2.10289934e+00  1.19431434e+00\n",
            "  -1.89004192e+00]\n",
            " [ 5.68255330e-03 -7.01166325e-01  1.96855057e-01 -8.42948865e-01\n",
            "   1.19140741e+00  6.74262031e-02  3.23457389e-01 -5.36460098e-01\n",
            "   4.95543230e-03]\n",
            " [ 1.86362064e-01 -8.11331771e-01  2.92538631e-01 -1.11131468e+00\n",
            "  -3.18541438e-01  4.63365419e-01  1.93755337e-01  4.35690075e-02\n",
            "  -1.12590486e+00]\n",
            " [ 1.96875613e+00  1.02709532e-01  1.14420232e-01  7.66403735e-01\n",
            "   3.24279853e+00 -3.87497386e-01  1.57256230e+00  8.87377695e-01\n",
            "  -3.37497761e-01]\n",
            " [-1.75610637e+00 -8.64884899e-01  3.58126337e-03 -2.37904218e+00\n",
            "   8.92937933e-02  3.90920300e-01  1.41323482e+00  1.07584182e+00\n",
            "   1.45747807e+00]\n",
            " [-5.15954783e-01 -5.08669928e-01 -2.53142421e-01  7.30297881e-01\n",
            "   6.40586624e-01 -8.27422722e-01 -8.81198317e-01 -1.09490064e+00\n",
            "   4.59356351e-01]\n",
            " [-4.54238558e-01  1.47906114e-01 -6.58335325e-01 -3.47268679e-01\n",
            "   9.13346340e-02 -8.63556747e-02  5.77079717e-02 -1.22137360e+00\n",
            "   2.76736541e-01]\n",
            " [-3.02356025e-01 -2.13428738e+00 -5.82110324e-02  1.19980899e+00\n",
            "   4.01550822e-01  2.52816981e+00  2.48230523e-01  5.12043095e-01\n",
            "  -1.42144307e+00]\n",
            " [ 1.35840678e+00 -3.39001006e-01  1.23899256e+00  1.99413098e-01\n",
            "   5.32136321e-01  1.41386901e+00 -2.78625570e-01  6.91438449e-01\n",
            "   1.08663251e+00]\n",
            " [-1.77750533e-01  7.82706472e-01 -1.55439436e+00 -1.26919138e-01\n",
            "  -1.52163709e+00  6.84483404e-01 -2.74494149e-01 -6.89507110e-01\n",
            "   2.33800295e-01]\n",
            " [ 3.73094439e-02  1.08773450e+00 -6.31035001e-01 -1.09388639e+00\n",
            "  -1.40209406e+00  8.12256473e-01  5.38932517e-02 -1.04895925e+00\n",
            "   7.42555167e-01]\n",
            " [ 6.32004136e-01 -8.50117369e-01 -2.21979988e-01  4.47246220e-01\n",
            "  -2.96872394e-01  4.86479969e-01  3.21734832e-01 -1.81281569e-01\n",
            "  -1.99941988e-01]\n",
            " [ 6.28938094e-01  5.71677194e-01  7.87719286e-02  3.47331662e-01\n",
            "   2.62677527e-01 -1.60393109e+00 -1.81333523e+00 -1.80949664e-01\n",
            "   1.12335159e+00]\n",
            " [-6.41546313e-01  5.67702990e-01  6.85874858e-02 -2.77135026e+00\n",
            "  -1.35929628e+00 -5.19628304e-01  4.09662858e-01  2.75100076e+00\n",
            "   1.28170824e-01]\n",
            " [ 1.23876935e+00 -2.32750072e-01  2.81213541e-01  1.21758668e+00\n",
            "  -6.56714650e-01  3.57020699e-01 -9.51782170e-01  8.02113759e-01\n",
            "   7.32123289e-01]\n",
            " [ 1.94208149e-01 -3.07466394e-01  9.74187969e-01  3.29976740e-01\n",
            "  -5.42904405e-01 -8.19714875e-01  1.50850559e-01 -7.62176369e-01\n",
            "  -2.08494108e-01]\n",
            " [ 2.33559124e-01 -1.45601164e+00  6.66354427e-01 -8.22729060e-01\n",
            "   1.03903212e+00  1.16377091e-01 -9.66853343e-01 -1.03206036e+00\n",
            "   4.67413132e-01]\n",
            " [-4.16811826e-01 -2.13130073e-01 -4.90943856e-01 -2.86536265e-01\n",
            "   2.35538673e-01  3.04574710e-02 -4.48865081e-01 -6.27722208e-01\n",
            "   4.21418520e-01]\n",
            " [-2.51972296e+00  4.97493936e-01 -1.43963655e+00  8.34282689e-01\n",
            "   5.90867058e-01  2.60179005e-01 -1.02020917e+00  2.16185249e+00\n",
            "  -9.14047544e-01]\n",
            " [ 1.41044374e-01 -7.62966852e-01 -9.92579288e-01 -2.90265599e-01\n",
            "   8.22508433e-03 -6.26036635e-01  5.35401367e-02 -2.45810193e-01\n",
            "  -6.57643161e-01]\n",
            " [ 3.64904443e-01 -8.84472679e-02  5.72652523e-01  4.70766475e-01\n",
            "  -6.92478368e-01 -1.14990238e-01  1.25566768e+00 -3.38202278e-01\n",
            "   4.94992460e-01]\n",
            " [-8.71093513e-01 -3.31979522e-01 -2.50357971e+00  1.31774280e+00\n",
            "   3.40605914e-01 -1.11011022e+00 -1.21027150e-02  2.11853499e-04\n",
            "   4.24490482e-01]\n",
            " [-7.60986983e-01 -1.51330686e+00 -6.17433928e-01 -8.44721755e-01\n",
            "  -9.11548389e-01  6.60138257e-02 -9.87978386e-02 -4.78284757e-01\n",
            "  -9.01899769e-01]\n",
            " [ 2.04498864e-01  2.02363727e+00  2.48217152e-03 -4.47742085e-01\n",
            "   4.80513238e-01  2.10320155e+00  3.05295669e+00  9.57145498e-01\n",
            "   8.66063440e-01]\n",
            " [-1.60740749e+00  1.25167374e+00 -6.31185459e-02 -1.34946869e+00\n",
            "  -1.98158379e-01 -7.35289818e-01  4.21275000e-01  7.18924680e-01\n",
            "   3.99060555e-01]\n",
            " [-3.71347965e-01  3.27925986e-01 -9.51009083e-01 -2.46459196e+00\n",
            "   7.31418402e-01  1.27522860e+00  4.92707706e-01  1.14233869e+00\n",
            "   7.66928450e-01]\n",
            " [-8.34046077e-01 -1.98700033e+00  2.67184190e+00 -7.32213038e-01\n",
            "   1.81318026e+00  3.40403659e-01 -1.08476124e+00 -1.70896591e+00\n",
            "  -1.87254180e-01]\n",
            " [ 2.03616965e-01  8.94228657e-01 -1.98746742e+00 -2.99612522e-01\n",
            "   8.52902538e-01 -3.07072849e-01 -1.43720479e+00  7.73789849e-01\n",
            "  -2.23864390e+00]\n",
            " [ 1.08023845e-01  7.05564158e-01  1.18299401e+00  4.60611886e-02\n",
            "   9.57116529e-01 -1.28651015e+00 -1.53595475e+00 -9.26502412e-01\n",
            "  -8.01532925e-01]\n",
            " [-9.67292486e-01 -1.04719288e-01 -7.41930243e-01  1.36412584e-02\n",
            "  -1.09955256e+00  8.48547371e-01  1.11260265e+00  7.55573511e-01\n",
            "   1.27573456e+00]\n",
            " [-1.55161429e+00  3.14876404e-01  9.85090357e-02  3.16429322e-01\n",
            "   9.50435088e-01 -1.02566909e+00  1.12652483e+00 -6.84866172e-01\n",
            "   2.61740432e-01]\n",
            " [-7.62907483e-02  3.27629124e-01 -9.46915322e-01 -7.72646170e-01\n",
            "  -9.35963706e-01  1.23115748e+00  1.18857951e+00  6.87528606e-01\n",
            "  -2.32299372e-01]\n",
            " [-7.47123294e-01  3.87584166e-01  1.09754465e+00 -2.72513533e-01\n",
            "  -6.51443781e-01 -1.59479750e-01 -5.80977448e-01 -6.82479192e-01\n",
            "   2.22990486e+00]\n",
            " [-9.40802665e-01  7.39963478e-01  4.96027037e-01 -7.34728054e-01\n",
            "   7.12799232e-01 -4.33186660e-01 -7.57326088e-01 -3.84824525e-01\n",
            "   3.01046268e-01]\n",
            " [-5.60337456e-01  2.14249028e-01  3.66103325e-01 -1.62519607e+00\n",
            "  -2.19175260e+00  1.20702950e+00 -1.73140350e+00 -1.37167698e+00\n",
            "  -2.61396093e-01]] \n",
            "\n",
            " [[-0.27005843  1.08417132 -0.55145162  0.03249011 -0.34855125 -1.82953418\n",
            "  -1.05710021 -0.74837358  0.46793878 -0.29356815  1.16580601  1.10839339\n",
            "   0.198645   -0.13268483  0.46728378  1.19844991  0.27564932 -0.0366508\n",
            "  -0.53804385 -0.61369788 -1.27163937  0.63882451  1.86972376 -0.72823687\n",
            "  -0.34704809 -0.5631212 ]\n",
            " [-0.82719859  0.01065322 -0.04435716 -0.41292098  1.00893733  0.10351196\n",
            "  -0.40698135  0.35475893 -1.64587241 -0.89721474  1.62262404  0.15074128\n",
            "   0.90721068 -0.78786716 -0.54809854 -0.86662437  2.5523748  -1.28890942\n",
            "   1.7257746   0.66268445  1.19765961  1.09090792 -0.12020352  1.78769472\n",
            "   0.62276163  1.73202628]\n",
            " [-0.66739554  1.14525872  1.5109415   1.72420839  0.11648948  2.47948991\n",
            "   0.09573757  0.2861498  -1.92765929  0.87034772  1.34288674  0.2571856\n",
            "   1.12548457  2.00046933 -0.64861158  0.24754298 -0.21936725  0.58367365\n",
            "  -1.68635233 -0.42055106  0.71420107  1.15542184  0.71014134 -0.24487205\n",
            "  -1.98896959  0.78037759]\n",
            " [ 1.74618598  1.89748552  0.5597942  -0.97176259  0.01565412  1.25690254\n",
            "  -1.46174479 -0.1946002  -0.22558359  0.7055378  -0.11759504 -0.7535047\n",
            "  -0.41323745 -1.31218566 -0.19399689 -0.94774059  0.55970484 -1.73311005\n",
            "   0.8225739  -0.27255875 -0.07038066 -1.35538076 -0.52659769 -0.11208217\n",
            "   0.74963161  0.32739271]\n",
            " [-1.37013575  2.13016174 -1.62841818  2.66111359 -1.29716696  0.81039843\n",
            "   1.41012506  0.74251478 -2.16963473 -0.79004763 -1.24802203 -2.43189853\n",
            "   0.37667235  1.03424321  1.33061406 -0.49262588  0.75204379  0.70079403\n",
            "  -0.16666693 -1.34795527  0.02922109  0.5404559  -0.44900954  0.40281311\n",
            "  -0.73101059 -1.59217721]\n",
            " [ 1.4194292   1.20521305  0.97050438  0.57540341 -0.59073892  2.55384244\n",
            "   1.5179191   0.36857233  0.73226056  0.46209836  2.32619483 -0.69469371\n",
            "  -0.53288781 -0.34098774 -1.98206164 -1.60815954  0.48812487 -0.13217522\n",
            "  -0.41406667  0.89508471 -1.32197694  1.58362758 -0.14767575 -0.34460711\n",
            "   1.60109428  0.70978566]\n",
            " [-0.66261816  1.70420392  0.42126929 -0.52439742 -0.19273104 -1.00386134\n",
            "   1.05744634  0.4185713  -0.58693194  0.81636151 -0.6824517  -0.71152544\n",
            "   0.35047664 -0.70063213  0.03355651  0.1841987   1.50339736 -2.12833484\n",
            "  -0.82926235 -0.29973883 -1.4891378  -0.54382455  1.25976024 -0.94721799\n",
            "  -0.42948166 -1.48895012]\n",
            " [ 0.10649106 -0.28538262  1.58325127 -0.19536611  0.92436834 -0.2809568\n",
            "  -0.91937892  1.32025211 -0.04175811  1.21813411 -1.21151923 -0.6719178\n",
            "   1.88187843  0.21877489 -0.61802344 -0.2404518  -0.09890136 -0.24646337\n",
            "   0.67638141  0.56238758  3.23357982  1.70033693 -0.01265575 -0.32868793\n",
            "  -1.81806302 -0.65944969]\n",
            " [-0.93148434 -0.47382056 -0.29702714 -1.95822801 -2.62692648  0.65675613\n",
            "  -0.22967562  1.49585825 -0.41043391 -1.32474581  0.72432865  0.3687611\n",
            "   0.34930018 -0.57595527 -0.05204123 -1.71059005  0.77463283 -0.87484755\n",
            "  -0.79910431  0.32497705  0.13845417  0.45239768 -0.24424167 -1.14827103\n",
            "  -0.09904628 -0.87111424]]\n",
            "epochs: 1 ======== асс: 81.97862667203543\n",
            "epochs: 2 ======== асс: 94.67981855587942\n",
            "epochs: 3 ======== асс: 95.90524408111357\n",
            "epochs: 4 ======== асс: 96.15195037391395\n",
            "epochs: 5 ======== асс: 96.24196759903595\n",
            "epochs: 6 ======== асс: 96.29257855035831\n",
            "epochs: 7 ======== асс: 96.32992124143517\n",
            "epochs: 8 ======== асс: 96.36301995003235\n",
            "epochs: 9 ======== асс: 96.3958080429633\n",
            "epochs: 10 ======== асс: 96.42998903197946\n",
            "epochs: 11 ======== асс: 96.46591646424653\n",
            "epochs: 12 ======== асс: 96.50336787425871\n",
            "epochs: 13 ======== асс: 96.54241228944055\n",
            "epochs: 14 ======== асс: 96.58372763280693\n",
            "epochs: 15 ======== асс: 96.62492403774387\n",
            "epochs: 16 ======== асс: 96.66145429136367\n",
            "epochs: 17 ======== асс: 96.69475628566003\n",
            "epochs: 18 ======== асс: 96.72612818251636\n",
            "epochs: 19 ======== асс: 96.75597005060474\n",
            "epochs: 20 ======== асс: 96.78455887995497\n",
            "epochs: 21 ======== асс: 96.81214609165387\n",
            "epochs: 22 ======== асс: 96.83893895484567\n",
            "epochs: 23 ======== асс: 96.86509204203306\n",
            "epochs: 24 ======== асс: 96.89070528624003\n",
            "epochs: 25 ======== асс: 96.91582495928436\n",
            "epochs: 26 ======== асс: 96.94045350641677\n",
            "epochs: 27 ======== асс: 96.9645702268146\n",
            "epochs: 28 ======== асс: 96.98814716882794\n",
            "epochs: 29 ======== асс: 97.0111448211487\n",
            "epochs: 30 ======== асс: 97.03350569616069\n",
            "epochs: 31 ======== асс: 97.05517608491871\n",
            "epochs: 32 ======== асс: 97.07614538015676\n",
            "epochs: 33 ======== асс: 97.09646244244357\n",
            "epochs: 34 ======== асс: 97.11621659716387\n",
            "epochs: 35 ======== асс: 97.13550742205929\n",
            "epochs: 36 ======== асс: 97.1544253872379\n",
            "epochs: 37 ======== асс: 97.17304610475793\n",
            "epochs: 38 ======== асс: 97.19143218543206\n",
            "epochs: 39 ======== асс: 97.2096377434909\n",
            "epochs: 40 ======== асс: 97.22771323869867\n",
            "epochs: 41 ======== асс: 97.24570977798815\n",
            "epochs: 42 ======== асс: 97.26368265102803\n",
            "epochs: 43 ======== асс: 97.28169443166807\n",
            "epochs: 44 ======== асс: 97.2998185173983\n",
            "epochs: 45 ======== асс: 97.31814410303406\n",
            "epochs: 46 ======== асс: 97.33678276734096\n",
            "epochs: 47 ======== асс: 97.35587454855781\n",
            "epochs: 48 ======== асс: 97.37558727882032\n",
            "epochs: 49 ======== асс: 97.39609970781943\n",
            "epochs: 50 ======== асс: 97.41756911047372\n",
            "epochs: 51 ======== асс: 97.44012309792113\n",
            "epochs: 52 ======== асс: 97.46393722213186\n",
            "epochs: 53 ======== асс: 97.48932346297539\n",
            "epochs: 54 ======== асс: 97.51648609999305\n",
            "epochs: 55 ======== асс: 97.54481680783708\n",
            "epochs: 56 ======== асс: 97.57290494823651\n",
            "epochs: 57 ======== асс: 97.59986525992588\n",
            "epochs: 58 ======== асс: 97.62571175540374\n",
            "epochs: 59 ======== асс: 97.65071694742178\n",
            "epochs: 60 ======== асс: 97.67509990699715\n",
            "epochs: 61 ======== асс: 97.69900654297311\n",
            "epochs: 62 ======== асс: 97.72253766479463\n",
            "epochs: 63 ======== асс: 97.74576803160345\n",
            "epochs: 64 ======== асс: 97.76875605599626\n",
            "epochs: 65 ======== асс: 97.79154852958055\n",
            "epochs: 66 ======== асс: 97.81418269316931\n",
            "epochs: 67 ======== асс: 97.83668654992582\n",
            "epochs: 68 ======== асс: 97.85907774114125\n",
            "epochs: 69 ======== асс: 97.88136129101558\n",
            "epochs: 70 ======== асс: 97.90352701198964\n",
            "epochs: 71 ======== асс: 97.92554827007936\n",
            "epochs: 72 ======== асс: 97.94738459236788\n",
            "epochs: 73 ======== асс: 97.96898994133967\n",
            "epochs: 74 ======== асс: 97.99032524404608\n",
            "epochs: 75 ======== асс: 98.01136947846926\n",
            "epochs: 76 ======== асс: 98.03212294731456\n",
            "epochs: 77 ======== асс: 98.0526015757158\n",
            "epochs: 78 ======== асс: 98.07282722170645\n",
            "epochs: 79 ======== асс: 98.0928199048757\n",
            "epochs: 80 ======== асс: 98.11259426187368\n",
            "epochs: 81 ======== асс: 98.13215925133191\n",
            "epochs: 82 ======== асс: 98.15151930227951\n",
            "epochs: 83 ======== асс: 98.1706757089572\n",
            "epochs: 84 ======== асс: 98.18962779652871\n",
            "epochs: 85 ======== асс: 98.20837377354626\n",
            "epochs: 86 ======== асс: 98.22691132066237\n",
            "epochs: 87 ======== асс: 98.24523798515166\n",
            "epochs: 88 ======== асс: 98.26335143828895\n",
            "epochs: 89 ======== асс: 98.2812496368826\n",
            "epochs: 90 ======== асс: 98.29893091812758\n",
            "epochs: 91 ======== асс: 98.3163940484847\n",
            "epochs: 92 ======== асс: 98.33363824139386\n",
            "epochs: 93 ======== асс: 98.35066315440372\n",
            "epochs: 94 ======== асс: 98.36746887320754\n",
            "epochs: 95 ======== асс: 98.38405588780078\n",
            "epochs: 96 ======== асс: 98.40042506431847\n",
            "epochs: 97 ======== асс: 98.41657761492338\n",
            "epochs: 98 ======== асс: 98.43251506728492\n",
            "epochs: 99 ======== асс: 98.44823923462093\n",
            "epochs: 100 ======== асс: 98.46375218689572\n",
            "\n",
            " [[-5.86696779e-01  1.01688117e+00  5.76667387e-01 -1.29613100e+00\n",
            "  -7.51733365e-02 -5.26855372e-01  2.18406465e-01  9.21951996e-01\n",
            "   8.81412901e-01]\n",
            " [-2.59985201e-01  1.64544956e-03  4.17837210e-02 -8.34224468e-01\n",
            "  -6.12927935e-01 -7.07426028e-01  1.31838967e+00  1.07003710e+00\n",
            "   1.14830579e+00]\n",
            " [-6.56952738e-01  8.78822672e-01  8.64485162e-01 -1.16323631e+00\n",
            "  -8.91361233e-01 -3.00005728e-01  1.12016320e+00 -5.63490513e-01\n",
            "   1.37880987e+00]\n",
            " [ 1.06475709e+00 -1.17821023e+00  1.54796035e+00 -1.35117034e+00\n",
            "   1.41115630e-01  1.58848358e-01 -4.95172569e-01  1.86592914e-01\n",
            "   3.56030161e-01]\n",
            " [ 7.76829188e-01 -9.55923219e-01  2.28197060e+00 -1.06882049e+00\n",
            "  -6.41226872e-01  1.05889094e+00 -1.37987998e-01 -3.18445628e+00\n",
            "   1.37566273e+00]\n",
            " [-4.41492158e-02 -4.79718444e-01 -1.50641524e+00  9.50044558e-01\n",
            "   1.06908652e-01  9.42827267e-01  1.08122812e+00 -2.02233894e+00\n",
            "   2.58209956e+00]\n",
            " [ 7.43383984e-01  1.20103882e+00 -8.90525206e-01 -1.58491884e+00\n",
            "  -8.87507012e-02  1.27757853e+00 -1.01428443e+00 -6.78076510e-01\n",
            "   2.07914003e-01]\n",
            " [-1.92878701e+00  5.28070543e-01 -5.59746569e-01 -9.10094460e-02\n",
            "  -1.52401879e+00 -6.52132325e-01 -2.54932799e-01  2.98168477e-01\n",
            "  -6.48393778e-01]\n",
            " [ 2.98558266e-01 -1.26606247e+00 -5.67823353e-01  1.29709156e-01\n",
            "   1.03654421e+00  3.54086810e-01  1.85060871e+00  5.19544098e-01\n",
            "  -6.23843841e-03]\n",
            " [ 4.04504666e-01 -5.49035860e-01 -1.07992199e+00 -2.42715680e-01\n",
            "  -3.34477354e-02  1.45595814e+00 -1.69190762e-01 -7.38017285e-01\n",
            "   9.84657750e-01]\n",
            " [ 1.43145340e-01 -4.30428144e-01  5.64107121e-01  8.63573856e-01\n",
            "   9.85880720e-01  9.08995762e-01  1.46687445e+00  1.08593536e+00\n",
            "   1.56428040e+00]\n",
            " [ 4.41550098e-01 -1.82527859e+00  1.32970268e+00 -1.13892639e+00\n",
            "   5.05178078e-01  3.75369418e-01 -3.23220056e-01 -9.24308164e-01\n",
            "   5.05034419e-01]\n",
            " [-3.33134068e-01 -7.11730204e-01 -6.48277398e-01  7.96452455e-01\n",
            "   6.35872741e-01 -1.87891848e+00  5.76156066e-02  1.19667591e+00\n",
            "  -3.89901295e-01]\n",
            " [ 1.38869482e+00  6.79990098e-01  9.45306322e-01  4.27649913e-01\n",
            "   6.91123769e-03  9.42277854e-01  3.92100734e-02 -2.78104174e-01\n",
            "   1.34340588e+00]\n",
            " [ 2.03615322e+00  8.56729301e-01 -1.40292385e+00 -2.12991290e-01\n",
            "   1.63089145e-03  4.27412410e-01  8.05255937e-01  6.32131148e-01\n",
            "   1.60797313e-01]\n",
            " [ 8.52711594e-01  2.23242880e+00  6.02710884e-02 -1.34291974e-01\n",
            "   1.22262911e+00 -2.66004186e-01 -1.11994448e+00  6.77936578e-02\n",
            "  -4.99760182e-02]\n",
            " [-2.35205573e+00 -7.13733323e-01 -1.04324348e+00  1.30498126e+00\n",
            "  -1.75824665e-02  5.83773348e-01 -2.39916504e-01  6.56060710e-01\n",
            "   8.30644511e-01]\n",
            " [-4.76290547e-01 -1.84823557e+00 -1.02023336e+00  1.44215356e+00\n",
            "  -4.84675513e-01  1.21795644e+00 -2.50687032e-01  1.00411449e+00\n",
            "  -6.66203374e-01]\n",
            " [-1.25407816e+00 -1.03649247e+00 -2.33178784e-01  1.07875025e+00\n",
            "   1.44323077e+00 -1.38315991e-01 -7.65051978e-01 -9.44639152e-01\n",
            "   2.97177510e-02]\n",
            " [ 1.07578923e+00  1.01422267e+00 -1.03463845e-01  2.87919399e-01\n",
            "   1.64428034e+00 -4.61332015e-01  2.48432366e-01  1.28670721e+00\n",
            "   1.22250729e+00]\n",
            " [-1.42403216e+00 -1.46746764e+00 -5.45004772e-01  1.66518106e+00\n",
            "   2.66067152e-01 -3.87823383e-01 -2.99328817e-02 -7.96312561e-01\n",
            "   3.19034048e-01]\n",
            " [-7.75724532e-01  6.09464366e-01  1.12444575e-01  1.16950004e+00\n",
            "  -1.88795254e-01 -4.82595196e-02 -4.74514639e-01  7.99600691e-01\n",
            "   9.22211082e-01]\n",
            " [ 1.10168812e+00 -5.38684838e-01 -1.60167094e+00  3.09181367e-02\n",
            "  -1.39467930e+00  1.29256434e+00 -7.41814492e-01 -4.91513446e-01\n",
            "   1.87197216e-01]\n",
            " [-1.18512393e+00  4.23282221e-01 -1.90673443e+00 -3.27310011e-01\n",
            "  -2.37350372e-02  1.68474750e-01 -5.46568729e-01  1.12788370e+00\n",
            "   2.80297431e-02]\n",
            " [-9.02754123e-01  6.90813131e-01  6.40198339e-01  1.45202011e+00\n",
            "  -1.50363331e+00  1.20746650e+00 -9.69663938e-01 -1.56275287e+00\n",
            "   3.51606361e-01]\n",
            " [-6.58768699e-01  8.02849986e-01 -3.14696799e-01  3.66296390e-01\n",
            "   1.51824178e+00  2.94371385e-02 -1.50669038e+00 -1.25618845e+00\n",
            "   1.13016087e+00]\n",
            " [ 9.25095583e-01 -5.69620287e-01  1.38778227e+00  5.50737987e-01\n",
            "  -2.84249248e-02 -9.38353211e-01  1.57627038e+00 -6.25356895e-01\n",
            "   1.36955580e+00]\n",
            " [ 1.25607274e+00  5.86451987e-01  1.65012209e+00  6.78283018e-01\n",
            "   1.34679258e+00 -1.12944075e+00  1.92935476e-01  4.58775254e-01\n",
            "   5.68384217e-01]\n",
            " [ 1.52073188e+00 -3.98367942e-01  1.13169314e+00  1.64743593e+00\n",
            "  -1.07725819e+00 -4.32399610e-01  3.95334079e-01 -1.46752568e-01\n",
            "   8.34584479e-01]\n",
            " [-1.57047918e+00  3.07627362e+00  2.46600342e-01 -8.20242049e-01\n",
            "  -1.41341395e-01  3.60926084e-01  1.27666617e-01  6.75456023e-03\n",
            "   1.68546336e+00]\n",
            " [ 2.56562105e+00 -2.43433286e+00 -7.04821531e-02 -4.96638090e-01\n",
            "   9.48900152e-01  3.11766435e-01 -4.33482605e-01 -1.32394204e+00\n",
            "  -6.26772776e-02]\n",
            " [-6.42064182e-01 -1.18451277e+00 -1.25933929e+00 -1.18089098e+00\n",
            "  -9.05100784e-01  2.27750092e-01  8.49607470e-01  1.07492322e-01\n",
            "   1.27046173e+00]\n",
            " [ 1.94776810e-01 -6.95834686e-01 -1.27101713e+00 -7.71066871e-01\n",
            "   2.98834697e-01 -4.13086757e-01 -2.74508301e-01  3.34373487e-01\n",
            "  -8.83545831e-01]\n",
            " [ 3.58044278e-01  4.37367213e-01 -3.93529107e-01 -8.90894625e-01\n",
            "  -5.29078038e-03  3.21508087e+00 -5.26731909e-01 -1.25479146e+00\n",
            "   1.48387943e-01]\n",
            " [-7.03086611e-01  2.86061148e-01 -1.92978787e+00  1.28776325e-01\n",
            "   1.41211988e+00 -2.09406992e+00  1.08007416e+00  1.10043690e+00\n",
            "  -1.15484892e+00]\n",
            " [-8.85063434e-01  8.95627019e-01 -2.47368245e-01  9.49104298e-01\n",
            "   6.48805345e-01 -7.20718045e-02 -1.99657354e+00 -1.38823718e-01\n",
            "  -4.52875908e-01]\n",
            " [-7.47738842e-01  1.39997700e+00 -6.41286626e-01  3.93566769e-01\n",
            "  -4.38820399e-01 -3.04107005e-01  9.57804601e-02  9.79418706e-01\n",
            "   3.72518042e-01]\n",
            " [-1.85399941e-01 -1.52182846e+00 -4.20180295e-01  3.84013364e-01\n",
            "   1.07691177e+00 -2.03005115e+00 -1.57640163e-02 -4.60526047e-01\n",
            "   7.80152553e-01]\n",
            " [-1.57756644e-01  9.10361753e-01  9.32370372e-01  6.72334597e-01\n",
            "   9.11779440e-03  4.33141835e-01  7.41789233e-01 -2.20576609e-01\n",
            "  -7.34660301e-01]\n",
            " [-1.79176465e+00 -1.95558824e-01 -1.22484978e+00 -1.53678407e+00\n",
            "  -2.53911227e-01 -6.61580834e-01  7.19555316e-02 -7.00827305e-01\n",
            "   4.69238523e-01]\n",
            " [ 8.72198616e-01  1.08985186e+00 -7.88567099e-01  2.64398416e-01\n",
            "  -8.03852332e-01 -1.47273285e+00 -8.43628559e-01 -1.18544457e+00\n",
            "  -8.82111240e-01]\n",
            " [-2.69064448e+00 -3.14274989e-01  7.12298397e-02 -1.19344158e+00\n",
            "  -4.22275000e-01  1.46749008e+00  2.29409131e+00 -2.76445881e-01\n",
            "  -1.59938348e+00]\n",
            " [-1.16415026e+00  9.72206948e-02 -2.27077189e+00 -8.03241735e-01\n",
            "  -1.77679954e-01  5.08820183e-01  4.42786554e-01  5.01080946e-01\n",
            "  -1.69525501e+00]\n",
            " [-2.04094104e+00  2.11343988e-01  8.77342441e-01  4.07140758e-02\n",
            "   1.23643005e+00 -1.44922224e+00  7.92750239e-01  7.88119808e-01\n",
            "   1.91362284e+00]\n",
            " [ 1.19670781e-01 -8.68795936e-01 -9.55492668e-02  2.64741474e-01\n",
            "   1.43475775e+00 -1.23025092e+00 -2.00886692e+00 -1.64151008e+00\n",
            "  -7.55292239e-01]\n",
            " [-3.95611806e-01 -1.04291569e+00 -3.62267045e-01 -9.83805648e-01\n",
            "  -3.32745633e-01 -9.58838061e-01  5.95296760e-01 -1.07673132e+00\n",
            "   3.42632747e-01]\n",
            " [ 6.19404165e-01 -4.93335253e-01  4.41518315e-01 -6.35603162e-01\n",
            "  -2.00627789e+00  5.78127120e-01  2.00107657e+00  1.18565482e+00\n",
            "  -1.59056803e+00]\n",
            " [ 5.81601435e-01 -3.91336547e-01  7.35218191e-01 -1.02260289e+00\n",
            "   1.66285290e+00 -4.02901574e-01  4.82241012e-01 -1.09650084e+00\n",
            "   5.45398458e-01]\n",
            " [ 7.72611888e-01 -1.04401438e+00  3.29565933e-02 -1.20945288e+00\n",
            "  -9.44596634e-01  1.00113724e+00  2.05922569e-01  1.02743218e-01\n",
            "  -9.25403594e-01]\n",
            " [ 2.72021768e+00 -4.46222410e-01 -4.36055757e-01  8.37034578e-01\n",
            "   2.59072178e+00 -4.20060320e-01  1.92572053e+00  2.86574132e-01\n",
            "   2.17055777e-01]\n",
            " [-6.35367817e-01 -1.07032434e+00 -9.19217994e-01 -2.49356004e+00\n",
            "  -6.67390392e-01  5.40400899e-01  1.87142409e+00  1.05960983e+00\n",
            "   1.77854215e+00]\n",
            " [-7.58000460e-01  1.34420427e-01 -9.30234586e-01  8.81372521e-01\n",
            "   2.81356038e-01 -1.01430290e+00 -8.26619873e-01 -1.46660465e+00\n",
            "   8.37918467e-01]\n",
            " [-1.34201681e+00 -4.62135398e-01 -1.87959973e+00 -1.07147704e+00\n",
            "   5.63859684e-01  1.87746012e-01 -4.51651801e-02 -1.15799004e+00\n",
            "   5.73179380e-01]\n",
            " [-3.02356025e-01 -2.13428738e+00 -5.82110324e-02  1.19980899e+00\n",
            "   4.01550822e-01  2.52816981e+00  2.48230523e-01  5.12043095e-01\n",
            "  -1.42144307e+00]\n",
            " [ 1.35840678e+00 -3.39001006e-01  1.23899256e+00  1.99413098e-01\n",
            "   5.32136321e-01  1.41386901e+00 -2.78625570e-01  6.91438449e-01\n",
            "   1.08663251e+00]\n",
            " [ 2.80257370e-02  1.06557934e-01 -2.23434520e+00  3.30611304e-01\n",
            "  -2.20206214e+00  3.17486846e-01 -1.56358181e-01 -1.01336480e+00\n",
            "   6.47926228e-01]\n",
            " [ 2.86532030e-02  1.69526384e+00  1.60847966e-01 -1.30158510e+00\n",
            "  -1.07942631e+00  7.26321444e-01  8.96995784e-02 -1.12249216e+00\n",
            "   1.06637706e+00]\n",
            " [ 6.32146128e-01 -1.31601376e+00 -2.15303735e-01  3.39263169e-01\n",
            "  -6.42524570e-01  9.63088073e-01  3.11988155e-01 -2.58244878e-03\n",
            "  -1.62494269e-01]\n",
            " [ 7.95057126e-01  9.06193791e-02 -2.14541183e-01  4.21282358e-01\n",
            "  -1.11651828e-01 -1.49999353e+00 -1.49499596e+00 -6.66281118e-01\n",
            "   1.53076159e+00]\n",
            " [-7.31435343e-01  5.74531763e-01 -5.66824808e-01 -2.78437977e+00\n",
            "  -1.43445075e+00  3.40436193e-01  5.47543481e-01  2.58774317e+00\n",
            "   1.96153432e-01]\n",
            " [ 1.94064009e+00 -2.64069152e-01  3.40992101e-01  1.20228245e+00\n",
            "  -2.31306968e-01  1.16744371e+00 -7.14565775e-01  6.62225748e-01\n",
            "   9.88578395e-01]\n",
            " [-2.67266127e-01 -6.81242942e-01  8.54782358e-01  5.16025517e-01\n",
            "  -2.74879337e-01 -1.23527575e+00  1.20456859e-01 -1.02858483e+00\n",
            "   1.72965131e-01]\n",
            " [ 2.33559124e-01 -1.45601164e+00  6.66354427e-01 -8.22729060e-01\n",
            "   1.03903212e+00  1.16377091e-01 -9.66853343e-01 -1.03206036e+00\n",
            "   4.67413132e-01]\n",
            " [-4.99068547e-01 -3.49445495e-01 -7.29917697e-01 -2.86084944e-01\n",
            "  -1.81983141e-01  4.69006484e-02 -4.15443626e-01 -6.28852296e-01\n",
            "   5.65349968e-01]\n",
            " [-1.85694756e+00 -1.04807224e-01 -1.45107186e+00  9.69501179e-01\n",
            "   8.32674976e-01  2.74679828e-01 -9.46088003e-01  1.74644859e+00\n",
            "  -6.35114298e-01]\n",
            " [-2.42171354e-01 -6.68705365e-01 -6.30358249e-01 -1.83759123e-01\n",
            "  -8.60126848e-01 -1.11862541e+00  1.00601911e-01 -2.25597503e-01\n",
            "  -3.35966049e-01]\n",
            " [ 3.64904443e-01 -8.84472679e-02  5.72652523e-01  4.70766475e-01\n",
            "  -6.92478368e-01 -1.14990238e-01  1.25566768e+00 -3.38202278e-01\n",
            "   4.94992460e-01]\n",
            " [-7.04859566e-01 -1.09791439e+00 -2.79008252e+00  1.38697903e+00\n",
            "   1.15500713e-01 -5.00866809e-01  4.43434403e-01 -2.52652681e-01\n",
            "   8.92022333e-01]\n",
            " [-7.60986983e-01 -1.51330686e+00 -6.17433928e-01 -8.44721755e-01\n",
            "  -9.11548389e-01  6.60138257e-02 -9.87978386e-02 -4.78284757e-01\n",
            "  -9.01899769e-01]\n",
            " [-1.49350841e-01  1.32417697e+00  5.20458612e-02 -4.84774842e-01\n",
            "   1.78575773e-01  1.02136674e+00  3.02913676e+00  1.03376006e+00\n",
            "   1.03834834e+00]\n",
            " [-9.08874114e-01  1.10101681e+00 -1.57247525e-01 -1.31898995e+00\n",
            "   1.26848677e-01 -4.18880337e-01  6.40927441e-01  3.55670392e-01\n",
            "   7.30244075e-01]\n",
            " [-4.53604685e-01  1.91610563e-01 -1.18998292e+00 -2.46414064e+00\n",
            "   3.13896588e-01  1.29167178e+00  5.26129162e-01  1.14120860e+00\n",
            "   9.10859898e-01]\n",
            " [-9.16302797e-01 -2.12331575e+00  2.43286806e+00 -7.31761717e-01\n",
            "   1.39565844e+00  3.56846836e-01 -1.05133979e+00 -1.71009600e+00\n",
            "  -4.33227308e-02]\n",
            " [ 8.66236520e-01  6.86644052e-01 -1.99891654e+00 -2.60007165e-01\n",
            "   1.28614266e+00 -3.12556579e-01 -1.51069025e+00  3.03548851e-01\n",
            "  -1.98897877e+00]\n",
            " [ 9.95234481e-02  9.18376943e-01  1.97489079e+00 -6.60243824e-02\n",
            "   1.08835208e+00 -1.35246063e+00 -1.35254179e+00 -9.45198220e-01\n",
            "  -4.48442913e-01]\n",
            " [-8.19501016e-01 -3.51364266e-01 -5.81746906e-01  5.34494413e-01\n",
            "  -1.85802339e+00  6.34313714e-02  1.31966468e+00  8.44306642e-01\n",
            "   1.32216786e+00]\n",
            " [-1.75020670e+00  5.55100687e-01  5.80395892e-02  4.29292012e-01\n",
            "   5.57612551e-01 -1.52528853e+00  1.45308464e+00 -9.65824746e-01\n",
            "   7.16715428e-01]\n",
            " [ 7.13448774e-02  4.75700703e-01 -7.86745795e-01 -3.47406149e-01\n",
            "  -1.50300234e+00  4.26056924e-01  1.24803491e+00  7.21424636e-01\n",
            "  -2.15134188e-01]\n",
            " [-7.77385201e-01  6.74436496e-01  6.42815042e-01 -4.68663247e-01\n",
            "  -1.48948452e+00 -1.67288421e+00 -6.34630975e-01 -7.41244262e-01\n",
            "   2.40444578e+00]\n",
            " [-1.03596922e+00  1.33137930e+00 -1.39335404e-01 -6.92011116e-01\n",
            "   1.46819484e+00  7.77451288e-02 -8.32188390e-01 -1.13751731e+00\n",
            "   5.48766076e-01]\n",
            " [ 6.16841935e-02  5.04390482e-01  1.71651778e-02 -1.62447783e+00\n",
            "  -2.58038868e+00  1.59008643e+00 -1.41635168e+00 -1.38421518e+00\n",
            "  -1.68241526e-02]] \n",
            "\n",
            " [[-1.45573495 -1.28124486  2.07195954 -1.1587416  -1.14894093 -1.38585232\n",
            "  -1.67906839 -2.2311284   2.61663753 -1.10615165  2.82440684 -0.97187561\n",
            "  -1.11403306 -1.68891566 -0.56446573  2.2573461  -1.30255906  1.16674745\n",
            "  -1.39317572  1.98402525 -1.68448444 -1.016614   -0.41102268 -1.4560572\n",
            "  -1.76356355 -1.71275196]\n",
            " [-2.59712021 -0.94716334 -2.13356767 -1.01603889  1.01330454 -1.08741201\n",
            "  -2.47190843 -0.46033683 -3.81131696 -2.61515479 -0.61487279 -0.25028455\n",
            "   0.61645796 -4.20783407 -2.10382707 -2.80060182 -0.46129668 -0.7365932\n",
            "   1.9275671  -1.86319859 -0.88885839 -0.3446658  -2.00491402  1.42009281\n",
            "  -2.77641556  2.15332106]\n",
            " [-1.84123248  2.74869381  1.86390139  2.99042403  2.16353145  4.13074455\n",
            "  -1.24400059  1.25894106 -2.5775142   0.09725666  0.68192954  2.58415978\n",
            "   0.01612544  1.25990666 -0.6140854  -0.34529413 -1.09249045 -0.43949418\n",
            "  -2.80749591 -1.60288049  0.08193065 -0.29693131 -0.1546494  -1.76823505\n",
            "  -2.31297431 -1.30539836]\n",
            " [ 0.47115874  0.22676734  0.49641937 -1.38829085 -0.48614345  0.47376233\n",
            "  -1.93994623 -0.94410176  1.59188124 -0.44962583 -0.66989748 -1.13097439\n",
            "  -0.20902872 -0.62559569 -0.67996221 -2.14752612 -0.88695475 -2.71009651\n",
            "  -0.18335714 -1.30665055  2.19888928 -1.77406337 -2.16823836 -0.77008655\n",
            "   3.93604223  0.07147959]\n",
            " [-1.66469364 -0.27579532 -2.61875684  2.66082154 -2.45440073  0.5396992\n",
            "  -0.55861074 -1.16078063 -2.84288694 -2.63151015 -1.86099788 -3.04456673\n",
            "   1.71023317  2.71813146  0.11517244  1.85952382  0.06367652  2.28004643\n",
            "  -1.84573038 -2.33721515 -2.67610901 -0.50921171 -1.02550406  3.18790211\n",
            "   0.85989211 -2.52089179]\n",
            " [ 4.23442697  2.70444865 -1.04043468 -1.39165857 -1.91727455  0.26034138\n",
            "   0.69447726  1.94969275  0.24160674  2.32693395  2.53458979 -2.23215906\n",
            "  -2.13014231 -1.34326586 -3.07211233 -1.89451707 -1.84882093 -0.08022011\n",
            "  -1.54063591 -1.0502272  -2.46900187  2.83012897 -2.18363498 -0.55355749\n",
            "  -0.0079498  -0.50554828]\n",
            " [-1.19075291 -0.49873129 -0.80679598 -0.59392025 -0.06884547 -4.93073325\n",
            "   0.53128073 -2.33082578 -1.4445214  -0.81725243 -4.66502062 -0.99886262\n",
            "  -2.9317851  -1.69911725  0.05932254 -0.78592186  0.30300629 -2.47662573\n",
            "   0.03747772 -0.77921373 -2.65798167 -2.89798092 -0.27153346 -3.23823943\n",
            "  -1.89010689 -4.20957043]\n",
            " [-2.08282682 -1.9081373  -0.40142102 -1.75442216 -0.51801801 -1.28388714\n",
            "  -2.60819204 -1.39795576 -1.02437061  2.97815205 -1.692234   -1.23403548\n",
            "   2.75433275  1.963447   -2.38184603  1.23968948 -1.7095267   2.21484154\n",
            "  -1.63591506 -1.28893999  3.35199759  3.15056889  3.13564765 -1.75578452\n",
            "  -2.42409116 -1.25644444]\n",
            " [-2.28345564 -4.32959743 -2.44784586 -3.79688802 -3.66320421 -1.40355301\n",
            "  -1.48083357 -1.71739341 -1.69260778 -3.34805918 -2.26070233 -1.69910814\n",
            "  -2.98163324 -1.99545945 -0.89650481 -3.06609292 -1.72431145 -2.80185238\n",
            "  -2.25037743 -0.83413492 -1.69596588 -3.01991177 -2.22680991 -2.63352661\n",
            "  -1.62887346 -0.78042484]]\n",
            "Tasvirdagi harf: A.\n"
          ],
          "name": "stdout"
        },
        {
          "output_type": "display_data",
          "data": {
            "image/png": "[encoded data removed]",
            "text/plain": [
              "<Figure size 432x288 with 1 Axes>"
            ]
          },
          "metadata": {
            "tags": [],
            "needs_background": "light"
          }
        },
        {
          "output_type": "stream",
          "text": [
            "Tasvirdagi harf: B.\n"
          ],
          "name": "stdout"
        },
        {
          "output_type": "display_data",
          "data": {
            "image/png": "[encoded data removed]",
            "text/plain": [
              "<Figure size 432x288 with 1 Axes>"
            ]
          },
          "metadata": {
            "tags": [],
            "needs_background": "light"
          }
        },
        {
          "output_type": "stream",
          "text": [
            "Tasvirdagi harf: C.\n"
          ],
          "name": "stdout"
        },
        {
          "output_type": "display_data",
          "data": {
            "image/png": "[encoded data removed]",
            "text/plain": [
              "<Figure size 432x288 with 1 Axes>"
            ]
          },
          "metadata": {
            "tags": [],
            "needs_background": "light"
          }
        },
        {
          "output_type": "stream",
          "text": [
            "Tasvirdagi harf: D.\n"
          ],
          "name": "stdout"
        },
        {
          "output_type": "display_data",
          "data": {
            "image/png": "[encoded data removed]",
            "text/plain": [
              "<Figure size 432x288 with 1 Axes>"
            ]
          },
          "metadata": {
            "tags": [],
            "needs_background": "light"
          }
        },
        {
          "output_type": "stream",
          "text": [
            "Tasvirdagi harf: L.\n"
          ],
          "name": "stdout"
        },
        {
          "output_type": "display_data",
          "data": {
            "image/png": "[encoded data removed]",
            "text/plain": [
              "<Figure size 432x288 with 1 Axes>"
            ]
          },
          "metadata": {
            "tags": [],
            "needs_background": "light"
          }
        },
        {
          "output_type": "stream",
          "text": [
            "Tasvirdagi harf: F.\n"
          ],
          "name": "stdout"
        },
        {
          "output_type": "display_data",
          "data": {
            "image/png": "[encoded data removed]",
            "text/plain": [
              "<Figure size 432x288 with 1 Axes>"
            ]
          },
          "metadata": {
            "tags": [],
            "needs_background": "light"
          }
        },
        {
          "output_type": "stream",
          "text": [
            "Tasvirdagi harf: G.\n"
          ],
          "name": "stdout"
        },
        {
          "output_type": "display_data",
          "data": {
            "image/png": "[encoded data removed]",
            "text/plain": [
              "<Figure size 432x288 with 1 Axes>"
            ]
          },
          "metadata": {
            "tags": [],
            "needs_background": "light"
          }
        },
        {
          "output_type": "stream",
          "text": [
            "Tasvirdagi harf: H.\n"
          ],
          "name": "stdout"
        },
        {
          "output_type": "display_data",
          "data": {
            "image/png": "[encoded data removed]",
            "text/plain": [
              "<Figure size 432x288 with 1 Axes>"
            ]
          },
          "metadata": {
            "tags": [],
            "needs_background": "light"
          }
        },
        {
          "output_type": "stream",
          "text": [
            "Tasvirdagi harf: I.\n"
          ],
          "name": "stdout"
        },
        {
          "output_type": "display_data",
          "data": {
            "image/png": "[encoded data removed]",
            "text/plain": [
              "<Figure size 432x288 with 1 Axes>"
            ]
          },
          "metadata": {
            "tags": [],
            "needs_background": "light"
          }
        },
        {
          "output_type": "stream",
          "text": [
            "Tasvirdagi harf: J.\n"
          ],
          "name": "stdout"
        },
        {
          "output_type": "display_data",
          "data": {
            "image/png": "[encoded data removed]",
            "text/plain": [
              "<Figure size 432x288 with 1 Axes>"
            ]
          },
          "metadata": {
            "tags": [],
            "needs_background": "light"
          }
        },
        {
          "output_type": "stream",
          "text": [
            "Tasvirdagi harf: K.\n"
          ],
          "name": "stdout"
        },
        {
          "output_type": "display_data",
          "data": {
            "image/png": "[encoded data removed]",
            "text/plain": [
              "<Figure size 432x288 with 1 Axes>"
            ]
          },
          "metadata": {
            "tags": [],
            "needs_background": "light"
          }
        },
        {
          "output_type": "stream",
          "text": [
            "Tasvirdagi harf: L.\n"
          ],
          "name": "stdout"
        },
        {
          "output_type": "display_data",
          "data": {
            "image/png": "[encoded data removed]",
            "text/plain": [
              "<Figure size 432x288 with 1 Axes>"
            ]
          },
          "metadata": {
            "tags": [],
            "needs_background": "light"
          }
        },
        {
          "output_type": "stream",
          "text": [
            "Tasvirdagi harf: M.\n"
          ],
          "name": "stdout"
        },
        {
          "output_type": "display_data",
          "data": {
            "image/png": "[encoded data removed]",
            "text/plain": [
              "<Figure size 432x288 with 1 Axes>"
            ]
          },
          "metadata": {
            "tags": [],
            "needs_background": "light"
          }
        },
        {
          "output_type": "stream",
          "text": [
            "Tasvirdagi harf: N.\n"
          ],
          "name": "stdout"
        },
        {
          "output_type": "display_data",
          "data": {
            "image/png": "[encoded data removed]",
            "text/plain": [
              "<Figure size 432x288 with 1 Axes>"
            ]
          },
          "metadata": {
            "tags": [],
            "needs_background": "light"
          }
        },
        {
          "output_type": "stream",
          "text": [
            "Tasvirdagi harf: O.\n"
          ],
          "name": "stdout"
        },
        {
          "output_type": "display_data",
          "data": {
            "image/png": "[encoded data removed]",
            "text/plain": [
              "<Figure size 432x288 with 1 Axes>"
            ]
          },
          "metadata": {
            "tags": [],
            "needs_background": "light"
          }
        },
        {
          "output_type": "stream",
          "text": [
            "Tasvirdagi harf: P.\n"
          ],
          "name": "stdout"
        },
        {
          "output_type": "display_data",
          "data": {
            "image/png": "[encoded data removed]",
            "text/plain": [
              "<Figure size 432x288 with 1 Axes>"
            ]
          },
          "metadata": {
            "tags": [],
            "needs_background": "light"
          }
        },
        {
          "output_type": "stream",
          "text": [
            "Tasvirdagi harf: Q.\n"
          ],
          "name": "stdout"
        },
        {
          "output_type": "display_data",
          "data": {
            "image/png": "[encoded data removed]",
            "text/plain": [
              "<Figure size 432x288 with 1 Axes>"
            ]
          },
          "metadata": {
            "tags": [],
            "needs_background": "light"
          }
        },
        {
          "output_type": "stream",
          "text": [
            "Tasvirdagi harf: R.\n"
          ],
          "name": "stdout"
        },
        {
          "output_type": "display_data",
          "data": {
            "image/png": "[encoded data removed]",
            "text/plain": [
              "<Figure size 432x288 with 1 Axes>"
            ]
          },
          "metadata": {
            "tags": [],
            "needs_background": "light"
          }
        },
        {
          "output_type": "stream",
          "text": [
            "Tasvirdagi harf: S.\n"
          ],
          "name": "stdout"
        },
        {
          "output_type": "display_data",
          "data": {
            "image/png": "[encoded data removed]",
            "text/plain": [
              "<Figure size 432x288 with 1 Axes>"
            ]
          },
          "metadata": {
            "tags": [],
            "needs_background": "light"
          }
        },
        {
          "output_type": "stream",
          "text": [
            "Tasvirdagi harf: T.\n"
          ],
          "name": "stdout"
        },
        {
          "output_type": "display_data",
          "data": {
            "image/png": "[encoded data removed]",
            "text/plain": [
              "<Figure size 432x288 with 1 Axes>"
            ]
          },
          "metadata": {
            "tags": [],
            "needs_background": "light"
          }
        },
        {
          "output_type": "stream",
          "text": [
            "Tasvirdagi harf: U.\n"
          ],
          "name": "stdout"
        },
        {
          "output_type": "display_data",
          "data": {
            "image/png": "[encoded data removed]",
            "text/plain": [
              "<Figure size 432x288 with 1 Axes>"
            ]
          },
          "metadata": {
            "tags": [],
            "needs_background": "light"
          }
        },
        {
          "output_type": "stream",
          "text": [
            "Tasvirdagi harf: V.\n"
          ],
          "name": "stdout"
        },
        {
          "output_type": "display_data",
          "data": {
            "image/png": "[encoded data removed]",
            "text/plain": [
              "<Figure size 432x288 with 1 Axes>"
            ]
          },
          "metadata": {
            "tags": [],
            "needs_background": "light"
          }
        },
        {
          "output_type": "stream",
          "text": [
            "Tasvirdagi harf: W.\n"
          ],
          "name": "stdout"
        },
        {
          "output_type": "display_data",
          "data": {
            "image/png": "[encoded data removed]",
            "text/plain": [
              "<Figure size 432x288 with 1 Axes>"
            ]
          },
          "metadata": {
            "tags": [],
            "needs_background": "light"
          }
        },
        {
          "output_type": "stream",
          "text": [
            "Tasvirdagi harf: X.\n"
          ],
          "name": "stdout"
        },
        {
          "output_type": "display_data",
          "data": {
            "image/png": "[encoded data removed]",
            "text/plain": [
              "<Figure size 432x288 with 1 Axes>"
            ]
          },
          "metadata": {
            "tags": [],
            "needs_background": "light"
          }
        },
        {
          "output_type": "stream",
          "text": [
            "Tasvirdagi harf: Y.\n"
          ],
          "name": "stdout"
        },
        {
          "output_type": "display_data",
          "data": {
            "image/png": "[encoded data removed]",
            "text/plain": [
              "<Figure size 432x288 with 1 Axes>"
            ]
          },
          "metadata": {
            "tags": [],
            "needs_background": "light"
          }
        },
        {
          "output_type": "stream",
          "text": [
            "Tasvirdagi harf: Z.\n"
          ],
          "name": "stdout"
        },
        {
          "output_type": "display_data",
          "data": {
            "image/png": "[encoded data removed]",
            "text/plain": [
              "<Figure size 432x288 with 1 Axes>"
            ]
          },
          "metadata": {
            "tags": [],
            "needs_background": "light"
          }
        }
      ]
    },
    {
      "cell_type": "code",
      "metadata": {
        "colab": {
          "base_uri": "https://localhost:8080/",
          "height": 541
        },
        "id": "SI3G_nwgc9TE",
        "outputId": "7aa19b73-a27e-4ea8-92c1-6d7db2dc916a"
      },
      "source": [
        "import matplotlib.pyplot as plt1\n",
        "\n",
        "#model aniqligi uchun grafik\n",
        "plt1.plot(acc)\n",
        "plt1.ylabel('Aniqlik')\n",
        "plt1.xlabel(\"Epochs:\")\n",
        "plt1.show()\n",
        "\n",
        "#loss uchun schedule\n",
        "plt1.plot(losss)\n",
        "plt1.ylabel('Lost')\n",
        "plt1.xlabel(\"Epochs:\")\n",
        "plt1.show()\n"
      ],
      "execution_count": 4,
      "outputs": [
        {
          "output_type": "display_data",
          "data": {
            "image/png": "[encoded data removed]",
            "text/plain": [
              "<Figure size 432x288 with 1 Axes>"
            ]
          },
          "metadata": {
            "tags": [],
            "needs_background": "light"
          }
        },
        {
          "output_type": "display_data",
          "data": {
            "image/png": "[encoded data removed]",
            "text/plain": [
              "<Figure size 432x288 with 1 Axes>"
            ]
          },
          "metadata": {
            "tags": [],
            "needs_background": "light"
          }
        }
      ]
    }
  ]
}